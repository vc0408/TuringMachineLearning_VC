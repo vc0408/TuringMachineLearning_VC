{
  "cells": [
    {
      "cell_type": "markdown",
      "metadata": {
        "id": "view-in-github",
        "colab_type": "text"
      },
      "source": [
        "<a href=\"https://colab.research.google.com/github/vc0408/TuringMachineLearning_VC/blob/main/Week3HWLate.ipynb\" target=\"_parent\"><img src=\"https://colab.research.google.com/assets/colab-badge.svg\" alt=\"Open In Colab\"/></a>"
      ]
    },
    {
      "cell_type": "markdown",
      "id": "43554d37",
      "metadata": {
        "id": "43554d37"
      },
      "source": [
        "# Turing Machine and Deep Learning 2023\n",
        "\n",
        "## Assignment Unupervised ML\n",
        "\n",
        "This notebook is meant for you to review and reflect on the content of Lecture 3, which was mainly about unsupervised learning problems. As with last week, this notebook should not be too much quantitative work (lines of code) but keep in mind that running this notebook may take a longer time than you may be used to for python programs (*training good models take time!*)\n",
        "\n",
        "### Handing in your Assignment\n",
        "\n",
        "Git is an invaluable resource to researchers and developers, and thus for this course, all course material will be (additionally) shared on GitHub. Though there is a tiny bit of a learning curve, this is worth the effort. To hand in your assignment (applicable to all weeks):\n",
        "\n",
        "1. Create a folder called \"Week 2\" and copy this notebook and any other files or data that may be needed.\n",
        "2. Finish the notebook and commit and push regularly. Your final commit before the deadline will be graded.\n",
        "\n",
        "\n",
        "### Grading\n",
        "\n",
        "Each one of the (sub-)questions below will be graded either 0 (insufficient), 1 (sufficient) or 2 (good). If $N$ is the number of sub-questions, and $p_i$ is your score for sub-question $i$, your total grade $G$ for this assignment is:\n",
        "$$G=\\frac{1}{2 N}\\sum_{i=0}^{N}p_i$$"
      ]
    },
    {
      "cell_type": "code",
      "execution_count": 121,
      "id": "52fbab8b",
      "metadata": {
        "id": "52fbab8b"
      },
      "outputs": [],
      "source": [
        "# load common libraries\n",
        "import numpy as np                 # maths\n",
        "import matplotlib.pyplot as plt    # plotting\n",
        "import pandas as pd                # data manipulation\n",
        "from tqdm import tqdm              # loading bar\n",
        "from time import perf_counter      # timer"
      ]
    },
    {
      "cell_type": "markdown",
      "id": "bf4c3a0a",
      "metadata": {
        "id": "bf4c3a0a"
      },
      "source": [
        "# Q1 Loading and preprocessing data\n",
        "\n",
        "In this repository, you should find a file called `tmdb_5000_movies.csv` which is information from a subset of movies on The Movie Database."
      ]
    },
    {
      "cell_type": "markdown",
      "id": "40715541",
      "metadata": {
        "id": "40715541"
      },
      "source": [
        "### Q.1.1\n",
        "Use pandas to read in the csv file (refer to [read_csv](https://pandas.pydata.org/docs/reference/api/pandas.read_csv.html) if you're unfamiliar)."
      ]
    },
    {
      "cell_type": "code",
      "execution_count": 122,
      "id": "c10a5202",
      "metadata": {
        "id": "c10a5202"
      },
      "outputs": [],
      "source": [
        "df = pd.read_csv('tmdb_5000_movies.csv')\n"
      ]
    },
    {
      "cell_type": "markdown",
      "id": "1915f1f7",
      "metadata": {
        "id": "1915f1f7"
      },
      "source": [
        "View information about the dataset including datatypes and null values"
      ]
    },
    {
      "cell_type": "code",
      "execution_count": 123,
      "id": "c173d066",
      "metadata": {
        "id": "c173d066",
        "colab": {
          "base_uri": "https://localhost:8080/"
        },
        "outputId": "174e1ab8-d813-4989-e013-488899578d9a"
      },
      "outputs": [
        {
          "output_type": "stream",
          "name": "stdout",
          "text": [
            "<class 'pandas.core.frame.DataFrame'>\n",
            "RangeIndex: 4803 entries, 0 to 4802\n",
            "Data columns (total 20 columns):\n",
            " #   Column                Non-Null Count  Dtype  \n",
            "---  ------                --------------  -----  \n",
            " 0   budget                4803 non-null   int64  \n",
            " 1   genres                4803 non-null   object \n",
            " 2   homepage              1712 non-null   object \n",
            " 3   id                    4803 non-null   int64  \n",
            " 4   keywords              4803 non-null   object \n",
            " 5   original_language     4803 non-null   object \n",
            " 6   original_title        4803 non-null   object \n",
            " 7   overview              4800 non-null   object \n",
            " 8   popularity            4803 non-null   float64\n",
            " 9   production_companies  4803 non-null   object \n",
            " 10  production_countries  4803 non-null   object \n",
            " 11  release_date          4802 non-null   object \n",
            " 12  revenue               4803 non-null   int64  \n",
            " 13  runtime               4801 non-null   float64\n",
            " 14  spoken_languages      4803 non-null   object \n",
            " 15  status                4803 non-null   object \n",
            " 16  tagline               3959 non-null   object \n",
            " 17  title                 4803 non-null   object \n",
            " 18  vote_average          4803 non-null   float64\n",
            " 19  vote_count            4803 non-null   int64  \n",
            "dtypes: float64(3), int64(4), object(13)\n",
            "memory usage: 750.6+ KB\n"
          ]
        }
      ],
      "source": [
        "df.info()"
      ]
    },
    {
      "cell_type": "markdown",
      "id": "4e64a24f",
      "metadata": {
        "id": "4e64a24f"
      },
      "source": [
        "**Q.1.1.2** What columns have null values above? How would you be able to estimate the missing values?"
      ]
    },
    {
      "cell_type": "markdown",
      "id": "2660fe51",
      "metadata": {
        "id": "2660fe51"
      },
      "source": [
        "*homepage, release_date, overview, runtime, tagline all have null values as there are 4803 entries for any non-null count less than 4803 implies that there is a null value in this column. Estimating the homepage would not be possible, as its unique for each movie, the same holds for release_date, overview and tagline. Runtime could be estimated by taking an average of all films or even the average of films of the same genre (might be more accurate).*"
      ]
    },
    {
      "cell_type": "markdown",
      "id": "83863820",
      "metadata": {
        "id": "83863820"
      },
      "source": [
        "### Q1.2\n",
        "For this notebook, we're only interested in a few columns, specifically title, overview and genres. Set df to only contain those columns."
      ]
    },
    {
      "cell_type": "code",
      "execution_count": 124,
      "id": "4e3f0439",
      "metadata": {
        "id": "4e3f0439",
        "colab": {
          "base_uri": "https://localhost:8080/"
        },
        "outputId": "65e14f99-c8d2-4144-87e8-9b5da842bc0d"
      },
      "outputs": [
        {
          "output_type": "stream",
          "name": "stdout",
          "text": [
            "<class 'pandas.core.frame.DataFrame'>\n",
            "RangeIndex: 4803 entries, 0 to 4802\n",
            "Data columns (total 3 columns):\n",
            " #   Column    Non-Null Count  Dtype \n",
            "---  ------    --------------  ----- \n",
            " 0   title     4803 non-null   object\n",
            " 1   overview  4800 non-null   object\n",
            " 2   genres    4803 non-null   object\n",
            "dtypes: object(3)\n",
            "memory usage: 112.7+ KB\n"
          ]
        }
      ],
      "source": [
        "df = df[['title', 'overview', 'genres']]\n",
        "df.info() # print out df info to verify"
      ]
    },
    {
      "cell_type": "markdown",
      "id": "b596e86b",
      "metadata": {
        "id": "b596e86b"
      },
      "source": [
        "### Q1.3\n",
        "We see that some movies do not have an overview. Drop them from the table and reset the index (set `drop=True`)."
      ]
    },
    {
      "cell_type": "code",
      "execution_count": 125,
      "id": "a06e4f6a",
      "metadata": {
        "id": "a06e4f6a"
      },
      "outputs": [],
      "source": [
        "df = df.dropna(subset = ['overview']) # drop na values\n",
        "df = df.reset_index(drop = True) # reset index"
      ]
    },
    {
      "cell_type": "markdown",
      "id": "759df3a2",
      "metadata": {
        "id": "759df3a2"
      },
      "source": [
        "# Q2 One-hot encodings\n",
        "The following code processes the genres (which you see above are list of dictionaries) and encodes them into one-hot labels.\n",
        "\n",
        "Remember, since we cannot do maths on text strings, we must change these words to numbers. Here, we create one-hot encodings for the genres. Assume we have three genres $[G_1, G_2, G_3]$. If a movie $M_1$ is tagged with genre $G_1$, the encoding is $[1,0,0]$. If another movie $M_2$ is tagged with $G2$, the encoding becomes $[0,1,0]$. Other encodings are possible as well, but one-hot encoding quite common and useful for many other tasks. In this case, if a movie is tagged with more than one genre, we'll just take a random one and encode that into a one-hot label.\n",
        "\n",
        "### Q2.1 Processing genres\n",
        "\n",
        "Finish the following code that processes genres into one-hot encodings."
      ]
    },
    {
      "cell_type": "code",
      "execution_count": 126,
      "id": "dba05feb",
      "metadata": {
        "id": "dba05feb",
        "colab": {
          "base_uri": "https://localhost:8080/"
        },
        "outputId": "5f16b75d-0c76-4ffb-bd2f-fc68f660e791"
      },
      "outputs": [
        {
          "output_type": "stream",
          "name": "stderr",
          "text": [
            "100%|██████████| 4800/4800 [00:00<00:00, 15207.59it/s]\n"
          ]
        }
      ],
      "source": [
        "np.random.seed(0)\n",
        "\n",
        "def process_genre_string(gs):\n",
        "    \"\"\" Processes genres into a single item from a list\"\"\"\n",
        "    gs = eval(gs)\n",
        "    gs = [x['name'] for x in gs]\n",
        "    genre = \"Unknown\"\n",
        "    if gs:\n",
        "        genre = np.random.choice(gs) # choose random entry\n",
        "    return genre\n",
        "\n",
        "# TODO: Fill in\n",
        "def encode_labels(label, unique_labels):\n",
        "    \"\"\" Encodes text labels into a one-hot encoded list\n",
        "        with possibly more than one one-hot per list.\n",
        "        :param label: the label you want to one-hot encode\n",
        "        :unique_labels: the vocabulary\n",
        "    \"\"\"\n",
        "    out = np.zeros(len(unique_labels))\n",
        "    index = unique_labels.index(label)\n",
        "    out[index] = 1\n",
        "    return out\n",
        "\n",
        "# save genres\n",
        "processed_genres = []\n",
        "for index, row in df.iterrows():\n",
        "    processed_genres.append(process_genre_string(row[\"genres\"]))\n",
        "\n",
        "# sort and remove duplicates to get vocabulary\n",
        "unique_genres = sorted(list(set(processed_genres)))\n",
        "\n",
        "# add to dataframe as new column\n",
        "df[\"proc_genres\"] = processed_genres\n",
        "\n",
        "# one-hot encode genres\n",
        "enocded_labels = []\n",
        "for index, row in tqdm(df.iterrows(), total=len(df)):\n",
        "    enocded_labels.append(encode_labels(row[\"proc_genres\"], unique_genres))\n",
        "\n",
        "df[\"one_hot_genres\"] = enocded_labels"
      ]
    },
    {
      "cell_type": "markdown",
      "id": "d17501a9",
      "metadata": {
        "id": "d17501a9"
      },
      "source": [
        "Verify that one-hot encodings are indeed as expected"
      ]
    },
    {
      "cell_type": "code",
      "execution_count": 127,
      "id": "3b64854b",
      "metadata": {
        "id": "3b64854b",
        "colab": {
          "base_uri": "https://localhost:8080/"
        },
        "outputId": "71a798fd-61fc-48fc-b2c6-06d8e10476c4"
      },
      "outputs": [
        {
          "output_type": "execute_result",
          "data": {
            "text/plain": [
              "array([1., 0., 0., 0., 0., 0., 0., 0., 0., 0., 0., 0., 0., 0., 0., 0., 0.,\n",
              "       0., 0., 0., 0.])"
            ]
          },
          "metadata": {},
          "execution_count": 127
        }
      ],
      "source": [
        "df[\"one_hot_genres\"][0]"
      ]
    },
    {
      "cell_type": "markdown",
      "id": "b0a83ece",
      "metadata": {
        "id": "b0a83ece"
      },
      "source": [
        "### Q2.2 Processing Overviews\n",
        "Next, we process the overviews. First, we remove all punctuation for the sake of simplicity and change each overview to use only lowercase. Then we need to see how long the overviews are in terms of numbers of words. We can do this with a histogram.\n",
        "\n",
        "**Q2.2.1** Finish the following code"
      ]
    },
    {
      "cell_type": "code",
      "execution_count": 128,
      "id": "bfd51c53",
      "metadata": {
        "id": "bfd51c53",
        "colab": {
          "base_uri": "https://localhost:8080/",
          "height": 1000
        },
        "outputId": "4c477950-e65d-4c5f-f2eb-4391a0b6cc6b"
      },
      "outputs": [
        {
          "output_type": "stream",
          "name": "stderr",
          "text": [
            "100%|██████████| 4800/4800 [00:00<00:00, 17445.01it/s]\n"
          ]
        },
        {
          "output_type": "display_data",
          "data": {
            "text/plain": [
              "<Figure size 640x480 with 1 Axes>"
            ],
            "image/png": "[encoded data removed]"
          },
          "metadata": {}
        },
        {
          "output_type": "stream",
          "name": "stdout",
          "text": [
            "                        title  \\\n",
            "1669              The Promise   \n",
            "2647  The Midnight Meat Train   \n",
            "\n",
            "                                               overview  \\\n",
            "1669  An orphaned girl, driven by poverty at such a ...   \n",
            "2647  The photographer Leon lives with his girlfrien...   \n",
            "\n",
            "                                                 genres proc_genres  \\\n",
            "1669  [{\"id\": 14, \"name\": \"Fantasy\"}, {\"id\": 18, \"na...       Drama   \n",
            "2647  [{\"id\": 9648, \"name\": \"Mystery\"}, {\"id\": 18, \"...    Thriller   \n",
            "\n",
            "                                         one_hot_genres  \\\n",
            "1669  [0.0, 0.0, 0.0, 0.0, 0.0, 0.0, 1.0, 0.0, 0.0, ...   \n",
            "2647  [0.0, 0.0, 0.0, 0.0, 0.0, 0.0, 0.0, 0.0, 0.0, ...   \n",
            "\n",
            "                                          proc_overview  overview_len  \n",
            "1669  an orphaned girl driven by poverty at such a y...           175  \n",
            "2647  the photographer leon lives with his girlfrien...           175  \n",
            "                    title overview  \\\n",
            "4399  The Helix... Loaded            \n",
            "\n",
            "                                                 genres      proc_genres  \\\n",
            "4399  [{\"id\": 28, \"name\": \"Action\"}, {\"id\": 35, \"nam...  Science Fiction   \n",
            "\n",
            "                                         one_hot_genres proc_overview  \\\n",
            "4399  [0.0, 0.0, 0.0, 0.0, 0.0, 0.0, 0.0, 0.0, 0.0, ...                 \n",
            "\n",
            "      overview_len  \n",
            "4399             0  \n"
          ]
        }
      ],
      "source": [
        "import re\n",
        "def remove_punctuation(text):\n",
        "    \"\"\" Only retains letters, numbers, underscores and whitespace \"\"\"\n",
        "    pattern = r'[^\\w\\s]'\n",
        "    return re.sub(pattern, '', text)\n",
        "\n",
        "processed_overviews = []\n",
        "\n",
        "# loop over df, remove punctuation, make words lowercase and add it to a new column\n",
        "for index, row in tqdm(df.iterrows(), total = len(df)):\n",
        "  processed_overview = remove_punctuation(row[\"overview\"])\n",
        "  processed_overview = processed_overview.lower()\n",
        "  processed_overviews.append(processed_overview)\n",
        "\n",
        "df[\"proc_overview\"] = processed_overviews\n",
        "\n",
        "# get the word lengths of each overview and store it in a list\n",
        "overview_lens = []\n",
        "for index, row in df.iterrows():\n",
        "    word_count = len(row[\"proc_overview\"].split())\n",
        "    overview_lens.append(word_count)\n",
        "\n",
        "# for the sake of simplicity, add these values as a column to the df\n",
        "df[\"overview_len\"] = overview_lens\n",
        "plt.hist(overview_lens)\n",
        "plt.xlabel('Length of overview')\n",
        "plt.ylabel('Number of movies')\n",
        "plt.show()\n",
        "print(df[df[\"overview_len\"] == df[\"overview_len\"].max()])\n",
        "print(df[df[\"overview_len\"] == df[\"overview_len\"].min()])"
      ]
    },
    {
      "cell_type": "markdown",
      "id": "58138594",
      "metadata": {
        "id": "58138594"
      },
      "source": [
        "**Q2.2.2** What is the shortest overview? What is the longest? In the next step, we need to decide on a standard length of all overviews -- this means dropping overviews less than some value, and truncating longer ones. What length would you choose to minimize the number of movies dropped and maximize the information (words) stored in the overviews?"
      ]
    },
    {
      "cell_type": "markdown",
      "id": "3b87f1af",
      "metadata": {
        "id": "3b87f1af"
      },
      "source": [
        "*The largest overview is 'The Midnight Meat Train' with an overview length of 175, while the shortest overview is 'The Helix... Loaded' with an overview length of 0. This might be because it could be a character or something removed previously. I would choose somewhere in between 100-400 words, as this is where most overviews are according to the histogram. So, to put a number to this, about 180 words. Since, the most common bin is 100-200 but there are still a lot of movies between 200-400, 180 seems like a fair estimate.*"
      ]
    },
    {
      "cell_type": "markdown",
      "id": "54e6cb90",
      "metadata": {
        "id": "54e6cb90"
      },
      "source": [
        "### Q2.2.3\n",
        "Let's choose overviews of length 15 words. What this means is we need to discard movies that have overviews less than 15 (there are other ways of dealing with it, but this should be fine for now) and truncate the higher ones to the first 15 words."
      ]
    },
    {
      "cell_type": "code",
      "execution_count": 129,
      "id": "70854211",
      "metadata": {
        "id": "70854211",
        "colab": {
          "base_uri": "https://localhost:8080/",
          "height": 368
        },
        "outputId": "84304513-cdbc-48aa-d6c9-31c44f077254"
      },
      "outputs": [
        {
          "output_type": "stream",
          "name": "stderr",
          "text": [
            "<ipython-input-129-effdf6cee88a>:13: SettingWithCopyWarning: \n",
            "A value is trying to be set on a copy of a slice from a DataFrame.\n",
            "Try using .loc[row_indexer,col_indexer] = value instead\n",
            "\n",
            "See the caveats in the documentation: https://pandas.pydata.org/pandas-docs/stable/user_guide/indexing.html#returning-a-view-versus-a-copy\n",
            "  df[\"proc_overview\"] = truncated_overviews\n"
          ]
        },
        {
          "output_type": "execute_result",
          "data": {
            "text/plain": [
              "0    [in, the, 22nd, century, a, paraplegic, marine...\n",
              "1    [captain, barbossa, long, believed, to, be, de...\n",
              "2    [a, cryptic, message, from, bonds, past, sends...\n",
              "3    [following, the, death, of, district, attorney...\n",
              "4    [john, carter, is, a, warweary, former, milita...\n",
              "Name: proc_overview, dtype: object"
            ],
            "text/html": [
              "<div>\n",
              "<style scoped>\n",
              "    .dataframe tbody tr th:only-of-type {\n",
              "        vertical-align: middle;\n",
              "    }\n",
              "\n",
              "    .dataframe tbody tr th {\n",
              "        vertical-align: top;\n",
              "    }\n",
              "\n",
              "    .dataframe thead th {\n",
              "        text-align: right;\n",
              "    }\n",
              "</style>\n",
              "<table border=\"1\" class=\"dataframe\">\n",
              "  <thead>\n",
              "    <tr style=\"text-align: right;\">\n",
              "      <th></th>\n",
              "      <th>proc_overview</th>\n",
              "    </tr>\n",
              "  </thead>\n",
              "  <tbody>\n",
              "    <tr>\n",
              "      <th>0</th>\n",
              "      <td>[in, the, 22nd, century, a, paraplegic, marine...</td>\n",
              "    </tr>\n",
              "    <tr>\n",
              "      <th>1</th>\n",
              "      <td>[captain, barbossa, long, believed, to, be, de...</td>\n",
              "    </tr>\n",
              "    <tr>\n",
              "      <th>2</th>\n",
              "      <td>[a, cryptic, message, from, bonds, past, sends...</td>\n",
              "    </tr>\n",
              "    <tr>\n",
              "      <th>3</th>\n",
              "      <td>[following, the, death, of, district, attorney...</td>\n",
              "    </tr>\n",
              "    <tr>\n",
              "      <th>4</th>\n",
              "      <td>[john, carter, is, a, warweary, former, milita...</td>\n",
              "    </tr>\n",
              "  </tbody>\n",
              "</table>\n",
              "</div><br><label><b>dtype:</b> object</label>"
            ]
          },
          "metadata": {},
          "execution_count": 129
        }
      ],
      "source": [
        "token_len = 15 # number of words\n",
        "# only select rows where overview len is more than or equal to token_len\n",
        "df = df[df[\"overview_len\"] >= token_len]\n",
        "\n",
        "# split each proc_overview into a list of words, select the first token_len words,\n",
        "# and add the list of words back into df[\"proc_overview\"]\n",
        "truncated_overviews = []\n",
        "for overview in df[\"proc_overview\"]:\n",
        "    words = str(overview).split()\n",
        "    truncated = words[:token_len]\n",
        "    truncated_overviews.append(truncated)\n",
        "\n",
        "df[\"proc_overview\"] = truncated_overviews\n",
        "\n",
        "# print to verify\n",
        "df[\"proc_overview\"].head()"
      ]
    },
    {
      "cell_type": "markdown",
      "id": "26e092dd",
      "metadata": {
        "id": "26e092dd"
      },
      "source": [
        "### Q2.2.3 Finding the vocabulary length\n",
        "\n",
        "In order to one-hot encode words, we need to find how many words there are in total, just like in the case of genres. Get all the words, remove duplicates, and sort. Find and print the length of your vocabulary."
      ]
    },
    {
      "cell_type": "code",
      "execution_count": 130,
      "id": "a71a750b",
      "metadata": {
        "id": "a71a750b",
        "colab": {
          "base_uri": "https://localhost:8080/"
        },
        "outputId": "38e1b0fe-afad-474a-be86-bb1a6cf71c97"
      },
      "outputs": [
        {
          "output_type": "stream",
          "name": "stdout",
          "text": [
            "12493\n"
          ]
        }
      ],
      "source": [
        "# hint: store all words for all movies in a set, change it to a list and sort\n",
        "\n",
        "total_words = []\n",
        "for row in df[\"proc_overview\"]:\n",
        "    total_words.extend(row)\n",
        "\n",
        "total_vocab_set = sorted(set(total_words))\n",
        "vocab_len = len(total_vocab_set)\n",
        "\n",
        "print(vocab_len)"
      ]
    },
    {
      "cell_type": "markdown",
      "id": "f276b825",
      "metadata": {
        "id": "f276b825"
      },
      "source": [
        "### Q2.2.4 Encoding the labels\n",
        "\n",
        "In the case of genres, we one-hot encoded the outputs by taking a single random genre. However, an alternative method is to add up the one-hot encodings to form some kind of histogram. For example, if we have an overview \"a brown dog\", and our vocab is \\[a brown, big, cabbage, dog, goat, cow, turkey\\], the one-hot vector would be \\[1,1,0,0,1,0,0,0\\]. If our overview is \"a big brown dog\", the one-hot vector would be \\[1,1,1,0,1,0,0,0\\]. If our overview is \"a big big brown dog\", the one-hot vector would be \\[1,1,2,0,1,0,0,0\\]. You can use the `encode_labels` function that you defined earlier."
      ]
    },
    {
      "cell_type": "code",
      "execution_count": 131,
      "id": "d212192f",
      "metadata": {
        "id": "d212192f",
        "colab": {
          "base_uri": "https://localhost:8080/",
          "height": 476
        },
        "outputId": "75958646-ed11-4b6d-9308-a5150713b86b"
      },
      "outputs": [
        {
          "output_type": "stream",
          "name": "stderr",
          "text": [
            "100%|██████████| 4707/4707 [00:16<00:00, 286.98it/s]\n"
          ]
        },
        {
          "output_type": "execute_result",
          "data": {
            "text/plain": [
              "0       [0.0, 0.0, 0.0, 0.0, 0.0, 0.0, 0.0, 0.0, 0.0, ...\n",
              "1       [0.0, 0.0, 0.0, 0.0, 0.0, 0.0, 0.0, 0.0, 0.0, ...\n",
              "2       [0.0, 0.0, 0.0, 0.0, 0.0, 0.0, 0.0, 0.0, 0.0, ...\n",
              "3       [0.0, 0.0, 0.0, 0.0, 0.0, 0.0, 0.0, 0.0, 0.0, ...\n",
              "4       [0.0, 0.0, 0.0, 0.0, 0.0, 0.0, 0.0, 0.0, 0.0, ...\n",
              "                              ...                        \n",
              "4794    [0.0, 0.0, 0.0, 0.0, 0.0, 0.0, 0.0, 0.0, 0.0, ...\n",
              "4795    [0.0, 0.0, 0.0, 0.0, 0.0, 0.0, 0.0, 0.0, 0.0, ...\n",
              "4797    [0.0, 0.0, 0.0, 0.0, 0.0, 0.0, 0.0, 0.0, 0.0, ...\n",
              "4798    [0.0, 0.0, 0.0, 0.0, 0.0, 0.0, 0.0, 0.0, 0.0, ...\n",
              "4799    [0.0, 0.0, 0.0, 0.0, 0.0, 0.0, 0.0, 0.0, 0.0, ...\n",
              "Name: one_hot_overview, Length: 4707, dtype: object"
            ],
            "text/html": [
              "<div>\n",
              "<style scoped>\n",
              "    .dataframe tbody tr th:only-of-type {\n",
              "        vertical-align: middle;\n",
              "    }\n",
              "\n",
              "    .dataframe tbody tr th {\n",
              "        vertical-align: top;\n",
              "    }\n",
              "\n",
              "    .dataframe thead th {\n",
              "        text-align: right;\n",
              "    }\n",
              "</style>\n",
              "<table border=\"1\" class=\"dataframe\">\n",
              "  <thead>\n",
              "    <tr style=\"text-align: right;\">\n",
              "      <th></th>\n",
              "      <th>one_hot_overview</th>\n",
              "    </tr>\n",
              "  </thead>\n",
              "  <tbody>\n",
              "    <tr>\n",
              "      <th>0</th>\n",
              "      <td>[0.0, 0.0, 0.0, 0.0, 0.0, 0.0, 0.0, 0.0, 0.0, ...</td>\n",
              "    </tr>\n",
              "    <tr>\n",
              "      <th>1</th>\n",
              "      <td>[0.0, 0.0, 0.0, 0.0, 0.0, 0.0, 0.0, 0.0, 0.0, ...</td>\n",
              "    </tr>\n",
              "    <tr>\n",
              "      <th>2</th>\n",
              "      <td>[0.0, 0.0, 0.0, 0.0, 0.0, 0.0, 0.0, 0.0, 0.0, ...</td>\n",
              "    </tr>\n",
              "    <tr>\n",
              "      <th>3</th>\n",
              "      <td>[0.0, 0.0, 0.0, 0.0, 0.0, 0.0, 0.0, 0.0, 0.0, ...</td>\n",
              "    </tr>\n",
              "    <tr>\n",
              "      <th>4</th>\n",
              "      <td>[0.0, 0.0, 0.0, 0.0, 0.0, 0.0, 0.0, 0.0, 0.0, ...</td>\n",
              "    </tr>\n",
              "    <tr>\n",
              "      <th>...</th>\n",
              "      <td>...</td>\n",
              "    </tr>\n",
              "    <tr>\n",
              "      <th>4794</th>\n",
              "      <td>[0.0, 0.0, 0.0, 0.0, 0.0, 0.0, 0.0, 0.0, 0.0, ...</td>\n",
              "    </tr>\n",
              "    <tr>\n",
              "      <th>4795</th>\n",
              "      <td>[0.0, 0.0, 0.0, 0.0, 0.0, 0.0, 0.0, 0.0, 0.0, ...</td>\n",
              "    </tr>\n",
              "    <tr>\n",
              "      <th>4797</th>\n",
              "      <td>[0.0, 0.0, 0.0, 0.0, 0.0, 0.0, 0.0, 0.0, 0.0, ...</td>\n",
              "    </tr>\n",
              "    <tr>\n",
              "      <th>4798</th>\n",
              "      <td>[0.0, 0.0, 0.0, 0.0, 0.0, 0.0, 0.0, 0.0, 0.0, ...</td>\n",
              "    </tr>\n",
              "    <tr>\n",
              "      <th>4799</th>\n",
              "      <td>[0.0, 0.0, 0.0, 0.0, 0.0, 0.0, 0.0, 0.0, 0.0, ...</td>\n",
              "    </tr>\n",
              "  </tbody>\n",
              "</table>\n",
              "<p>4707 rows × 1 columns</p>\n",
              "</div><br><label><b>dtype:</b> object</label>"
            ]
          },
          "metadata": {},
          "execution_count": 131
        }
      ],
      "source": [
        "# this code is just a hint, if you want you can do it as you please\n",
        "# as long as the output remains the same\n",
        "def encode_labels(label, unique_labels):\n",
        "    \"\"\" Encodes text labels into a one-hot encoded list\n",
        "        with possibly more than one one-hot per list.\n",
        "        :param label: the label you want to one-hot encode\n",
        "        :unique_labels: the vocabulary\n",
        "    \"\"\"\n",
        "    out = np.zeros(len(unique_labels))\n",
        "    index = unique_labels.index(label)\n",
        "    out[index] = 1\n",
        "    return out\n",
        "\n",
        "encoded_labels = []\n",
        "for index, row in tqdm(df.iterrows(), total=len(df)):\n",
        "    sentence_encode = [] # set of encodings for this overview\n",
        "    for word in row[\"proc_overview\"]:\n",
        "        sentence_encode.append(encode_labels(word, total_vocab_set)) # get encoding for this word\n",
        "    sentence_encode =  np.sum(sentence_encode, axis=0)\n",
        "    encoded_labels.append(sentence_encode)\n",
        "\n",
        "df[\"one_hot_overview\"] = encoded_labels\n",
        "df['one_hot_overview'] # print to verify"
      ]
    },
    {
      "cell_type": "markdown",
      "id": "7c62e127",
      "metadata": {
        "id": "7c62e127"
      },
      "source": [
        "**Q2.2.5** Each vector is a vector of floating point (64-bit) numbers. Assuming each float takes up exactly 16-bytes, how many bytes does this take to store (theoretically)?"
      ]
    },
    {
      "cell_type": "markdown",
      "id": "193b8235",
      "metadata": {
        "id": "193b8235"
      },
      "source": [
        "*4707 rows, 12493 total words and 16-bytes per number. This results to 940872816 bytes or about 900MB.*"
      ]
    },
    {
      "cell_type": "markdown",
      "id": "1f3b3700",
      "metadata": {
        "id": "1f3b3700"
      },
      "source": [
        "# Q3 Principal Component Analysis\n",
        "\n",
        "**Q3.1** Using the overview encoded into one-hot encodings, perform PCA and plot this into a 2-D image as a scatter plot."
      ]
    },
    {
      "cell_type": "code",
      "execution_count": 132,
      "id": "832f2be7",
      "metadata": {
        "id": "832f2be7",
        "colab": {
          "base_uri": "https://localhost:8080/",
          "height": 450
        },
        "outputId": "51d207b0-882e-43dc-fc86-3aa8d2fdb45d"
      },
      "outputs": [
        {
          "output_type": "display_data",
          "data": {
            "text/plain": [
              "<Figure size 640x480 with 1 Axes>"
            ],
            "image/png": "[encoded data removed]"
          },
          "metadata": {}
        }
      ],
      "source": [
        "# import PCA decomposition class from sklearn\n",
        "from sklearn.decomposition import PCA\n",
        "\n",
        "# we did exactly this in the lecture notebook\n",
        "x = np.stack(df[\"one_hot_overview\"].values)\n",
        "\n",
        "pca = PCA(n_components=2)\n",
        "x_train_pca = pca.fit_transform(x)\n",
        "\n",
        "plt.scatter(x_train_pca[:, 0], x_train_pca[:, 1], alpha = 0.6, s = 10)\n",
        "plt.xlabel('Principal Component 1')\n",
        "plt.ylabel('Principal Component 2')\n",
        "plt.show()"
      ]
    },
    {
      "cell_type": "markdown",
      "id": "a63054b6",
      "metadata": {
        "id": "a63054b6"
      },
      "source": [
        "**Q3.2** Do you see any interpretable structure in the above plot (\"interpretable\" $\\rightarrow$ the patterns are explainable)."
      ]
    },
    {
      "cell_type": "markdown",
      "id": "a9409e7b",
      "metadata": {
        "id": "a9409e7b"
      },
      "source": [
        "*Yes it looks like the overview clusters closely together in similar intervals. Maybe this could be similar genres that use similar words, e.g a Horror movie is likely to have words like murder, demon, spirit, ghost, etc in their overview.*"
      ]
    },
    {
      "cell_type": "markdown",
      "id": "4482c5e5",
      "metadata": {
        "id": "4482c5e5"
      },
      "source": [
        "**Q3.3** Quantify how much variance information a 2D PCA projection loses for this dataset."
      ]
    },
    {
      "cell_type": "markdown",
      "id": "2338a25d",
      "metadata": {
        "id": "2338a25d"
      },
      "source": [
        "*This shrinks the data from 12493 dimensions to 2 dimensions. So checking the sum of the explained variance from both components results, and subtracting it by 1 yields 0.887 lost variance. This is subtracted by 1 as the total variance is normalized to the standard normal distribution.*"
      ]
    },
    {
      "cell_type": "code",
      "source": [
        "explained_variance = pca.explained_variance_ratio_\n",
        "\n",
        "total_variance = np.sum(explained_variance)\n",
        "print(1-total_variance)"
      ],
      "metadata": {
        "colab": {
          "base_uri": "https://localhost:8080/"
        },
        "id": "ZZ012ijHO85B",
        "outputId": "f0d853dd-00eb-4551-8b95-db23f85105dd"
      },
      "id": "ZZ012ijHO85B",
      "execution_count": 133,
      "outputs": [
        {
          "output_type": "stream",
          "name": "stdout",
          "text": [
            "0.8871154913247568\n"
          ]
        }
      ]
    },
    {
      "cell_type": "markdown",
      "id": "7da99ba5",
      "metadata": {
        "id": "7da99ba5"
      },
      "source": [
        "**Q3.4** Plot a line graph where the y-axis is cumulative explained variance ratio and the x-axis is the number of PCA components."
      ]
    },
    {
      "cell_type": "code",
      "execution_count": 134,
      "id": "e0cac8ff",
      "metadata": {
        "scrolled": false,
        "id": "e0cac8ff",
        "colab": {
          "base_uri": "https://localhost:8080/",
          "height": 472
        },
        "outputId": "4c458f20-3353-471f-abba-3187d37aeee2"
      },
      "outputs": [
        {
          "output_type": "display_data",
          "data": {
            "text/plain": [
              "<Figure size 640x480 with 1 Axes>"
            ],
            "image/png": "[encoded data removed]"
          },
          "metadata": {}
        }
      ],
      "source": [
        "# Set up PCA object with the desired number of components\n",
        "# PCA max is min(n_samples, n_features)\n",
        "pca = PCA(n_components = 4707)\n",
        "x_train_pca = pca.fit_transform(x)\n",
        "powers = pca.explained_variance_ratio_\n",
        "\n",
        "# fit transform one_hot_overview encodings\n",
        "labels_pca = np.cumsum(powers).tolist()\n",
        "# get explained variance ratio from object, store it in a list\n",
        "\n",
        "\n",
        "plt.plot(labels_pca)\n",
        "# set up y label, x label, title\n",
        "plt.xlabel(\"Nubmer of PCA components\")\n",
        "plt.ylabel(\"Cumulative explained variance ratio\")\n",
        "plt.title(\"Cumulative explained variance ratio vs. number of PCA components\")\n",
        "plt.show()"
      ]
    },
    {
      "cell_type": "markdown",
      "id": "8b36c9b2",
      "metadata": {
        "id": "8b36c9b2"
      },
      "source": [
        "**Q3.5** How many principal components do you need in order to explain 80% of the total variance in the data?\n",
        "\n",
        "Note: don't just estimate it by eye, write some code to compute it for you."
      ]
    },
    {
      "cell_type": "code",
      "execution_count": 135,
      "id": "95c44b2d",
      "metadata": {
        "id": "95c44b2d",
        "colab": {
          "base_uri": "https://localhost:8080/"
        },
        "outputId": "6909a1b7-871f-4e26-d741-355374b07b4c"
      },
      "outputs": [
        {
          "output_type": "stream",
          "name": "stdout",
          "text": [
            "1225\n"
          ]
        }
      ],
      "source": [
        "# your code answer here\n",
        "for explained_var in labels_pca:\n",
        "    if explained_var >= 0.8:\n",
        "        print(labels_pca.index(explained_var))\n",
        "        break"
      ]
    },
    {
      "cell_type": "markdown",
      "id": "b608db91",
      "metadata": {
        "id": "b608db91"
      },
      "source": [
        "*You need 1225 components to explain 80% of the total variance*"
      ]
    },
    {
      "cell_type": "markdown",
      "id": "ee3b5c33",
      "metadata": {
        "id": "ee3b5c33"
      },
      "source": [
        "**Q3.6** Using the number of dimensions you found in Q3.5, fit and transform your overview encodings using PCA and add it to a new column called `overview_pca` in the dataframe."
      ]
    },
    {
      "cell_type": "code",
      "execution_count": 140,
      "id": "8a6eb40b",
      "metadata": {
        "id": "8a6eb40b"
      },
      "outputs": [],
      "source": [
        "n_dims = 1225\n",
        "pca = PCA(n_components = n_dims, svd_solver='randomized')\n",
        "x_train_pca = pca.fit_transform(x)\n",
        "\n",
        "labels_pca = list(x_train_pca)\n",
        "df[\"overview_pca\"] = labels_pca"
      ]
    },
    {
      "cell_type": "markdown",
      "id": "309d3256",
      "metadata": {
        "id": "309d3256"
      },
      "source": [
        "# Q4 K-Means Clustering\n",
        "\n",
        "**Q4.1** Cluster the movies based on the features that were extracted via PCA in the last step. Set $K=20$. Add the predicted cluster into the dataframe as a new column called `cluster_kmeans`. Print out the elements of cluster number 0 from the dataframe."
      ]
    },
    {
      "cell_type": "code",
      "execution_count": 141,
      "id": "f5f5781e",
      "metadata": {
        "id": "f5f5781e",
        "colab": {
          "base_uri": "https://localhost:8080/"
        },
        "outputId": "bc8b90b5-6b14-4a6b-d4c6-2471879256da"
      },
      "outputs": [
        {
          "output_type": "stream",
          "name": "stdout",
          "text": [
            "                                    title  \\\n",
            "16                           The Avengers   \n",
            "18                         Men in Black 3   \n",
            "22    The Hobbit: The Desolation of Smaug   \n",
            "29                                Skyfall   \n",
            "38               The Amazing Spider-Man 2   \n",
            "...                                   ...   \n",
            "4692                   Children of Heaven   \n",
            "4700                              Tadpole   \n",
            "4762                       Raymond Did It   \n",
            "4770                               Clerks   \n",
            "4784             All Superheroes Must Die   \n",
            "\n",
            "                                               overview  \\\n",
            "16    When an unexpected enemy emerges and threatens...   \n",
            "18    Agents J (Will Smith) and K (Tommy Lee Jones) ...   \n",
            "22    The Dwarves, Bilbo and Gandalf have successful...   \n",
            "29    When Bond's latest assignment goes gravely wro...   \n",
            "38    For Peter Parker, life is busy. Between taking...   \n",
            "...                                                 ...   \n",
            "4692  Zohre's shoes are gone; her older brother Ali ...   \n",
            "4700  Beautiful, sophisticated women are all over Os...   \n",
            "4762  Mentally challenged Raymond Rourke gets blamed...   \n",
            "4770  Convenience and video store clerks Dante and R...   \n",
            "4784  Masked vigilantes Charge (Jason Trost), Cutthr...   \n",
            "\n",
            "                                                 genres      proc_genres  \\\n",
            "16    [{\"id\": 878, \"name\": \"Science Fiction\"}, {\"id\"...  Science Fiction   \n",
            "18    [{\"id\": 28, \"name\": \"Action\"}, {\"id\": 35, \"nam...           Comedy   \n",
            "22    [{\"id\": 12, \"name\": \"Adventure\"}, {\"id\": 14, \"...          Fantasy   \n",
            "29    [{\"id\": 28, \"name\": \"Action\"}, {\"id\": 12, \"nam...           Action   \n",
            "38    [{\"id\": 28, \"name\": \"Action\"}, {\"id\": 12, \"nam...        Adventure   \n",
            "...                                                 ...              ...   \n",
            "4692  [{\"id\": 18, \"name\": \"Drama\"}, {\"id\": 35, \"name...           Family   \n",
            "4700  [{\"id\": 35, \"name\": \"Comedy\"}, {\"id\": 18, \"nam...            Drama   \n",
            "4762                     [{\"id\": 27, \"name\": \"Horror\"}]           Horror   \n",
            "4770                     [{\"id\": 35, \"name\": \"Comedy\"}]           Comedy   \n",
            "4784  [{\"id\": 878, \"name\": \"Science Fiction\"}, {\"id\"...         Thriller   \n",
            "\n",
            "                                         one_hot_genres  \\\n",
            "16    [0.0, 0.0, 0.0, 0.0, 0.0, 0.0, 0.0, 0.0, 0.0, ...   \n",
            "18    [0.0, 0.0, 0.0, 1.0, 0.0, 0.0, 0.0, 0.0, 0.0, ...   \n",
            "22    [0.0, 0.0, 0.0, 0.0, 0.0, 0.0, 0.0, 0.0, 1.0, ...   \n",
            "29    [1.0, 0.0, 0.0, 0.0, 0.0, 0.0, 0.0, 0.0, 0.0, ...   \n",
            "38    [0.0, 1.0, 0.0, 0.0, 0.0, 0.0, 0.0, 0.0, 0.0, ...   \n",
            "...                                                 ...   \n",
            "4692  [0.0, 0.0, 0.0, 0.0, 0.0, 0.0, 0.0, 1.0, 0.0, ...   \n",
            "4700  [0.0, 0.0, 0.0, 0.0, 0.0, 0.0, 1.0, 0.0, 0.0, ...   \n",
            "4762  [0.0, 0.0, 0.0, 0.0, 0.0, 0.0, 0.0, 0.0, 0.0, ...   \n",
            "4770  [0.0, 0.0, 0.0, 1.0, 0.0, 0.0, 0.0, 0.0, 0.0, ...   \n",
            "4784  [0.0, 0.0, 0.0, 0.0, 0.0, 0.0, 0.0, 0.0, 0.0, ...   \n",
            "\n",
            "                                          proc_overview  overview_len  \\\n",
            "16    [when, an, unexpected, enemy, emerges, and, th...            47   \n",
            "18    [agents, j, will, smith, and, k, tommy, lee, j...           109   \n",
            "22    [the, dwarves, bilbo, and, gandalf, have, succ...            32   \n",
            "29    [when, bonds, latest, assignment, goes, gravel...            92   \n",
            "38    [for, peter, parker, life, is, busy, between, ...            82   \n",
            "...                                                 ...           ...   \n",
            "4692  [zohres, shoes, are, gone, her, older, brother...            36   \n",
            "4700  [beautiful, sophisticated, women, are, all, ov...           163   \n",
            "4762  [mentally, challenged, raymond, rourke, gets, ...            52   \n",
            "4770  [convenience, and, video, store, clerks, dante...            40   \n",
            "4784  [masked, vigilantes, charge, jason, trost, cut...            62   \n",
            "\n",
            "                                       one_hot_overview  \\\n",
            "16    [0.0, 0.0, 0.0, 0.0, 0.0, 0.0, 0.0, 0.0, 0.0, ...   \n",
            "18    [0.0, 0.0, 0.0, 0.0, 0.0, 0.0, 0.0, 0.0, 0.0, ...   \n",
            "22    [0.0, 0.0, 0.0, 0.0, 0.0, 0.0, 0.0, 0.0, 0.0, ...   \n",
            "29    [0.0, 0.0, 0.0, 0.0, 0.0, 0.0, 0.0, 0.0, 0.0, ...   \n",
            "38    [0.0, 0.0, 0.0, 0.0, 0.0, 0.0, 0.0, 0.0, 0.0, ...   \n",
            "...                                                 ...   \n",
            "4692  [0.0, 0.0, 0.0, 0.0, 0.0, 0.0, 0.0, 0.0, 0.0, ...   \n",
            "4700  [0.0, 0.0, 0.0, 0.0, 0.0, 0.0, 0.0, 0.0, 0.0, ...   \n",
            "4762  [0.0, 0.0, 0.0, 0.0, 0.0, 0.0, 0.0, 0.0, 0.0, ...   \n",
            "4770  [0.0, 0.0, 0.0, 0.0, 0.0, 0.0, 0.0, 0.0, 0.0, ...   \n",
            "4784  [0.0, 0.0, 0.0, 0.0, 0.0, 0.0, 0.0, 0.0, 0.0, ...   \n",
            "\n",
            "                                           overview_pca  cluster_kmeans  \n",
            "16    [0.09052639496236752, -1.2128535249924943, -1....               0  \n",
            "18    [-0.16994588779178194, -1.2903531782397342, -0...               0  \n",
            "22    [1.3054372600656354, -0.7042947730525148, -0.7...               0  \n",
            "29    [0.5798830692221151, -0.8985172144409844, -0.4...               0  \n",
            "38    [0.5455780790379449, -0.8345308873947132, -0.3...               0  \n",
            "...                                                 ...             ...  \n",
            "4692  [-0.16552625560239334, -1.1914018302407028, -0...               0  \n",
            "4700  [-0.2021095195261962, -1.2572468670180201, -0....               0  \n",
            "4762  [-0.19549495526608177, -1.241434632580729, -0....               0  \n",
            "4770  [0.08713832865037636, -1.35849015616923, -2.06...               0  \n",
            "4784  [0.5851956476142594, -0.8347250785333834, -0.4...               0  \n",
            "\n",
            "[261 rows x 10 columns]\n"
          ]
        }
      ],
      "source": [
        "# import KMeans class\n",
        "from sklearn.cluster import KMeans\n",
        "\n",
        "# Perform K-means clustering\n",
        "kmeans = KMeans(n_clusters=20)\n",
        "# fit model\n",
        "kmeans.fit(x_train_pca)\n",
        "\n",
        "y_preds =  kmeans.predict(x_train_pca) # get predictions\n",
        "df[\"cluster_kmeans\"] = y_preds # set predictions\n",
        "\n",
        "# print out elements of cluster 0\n",
        "print(df[df[\"cluster_kmeans\"] == 0])"
      ]
    },
    {
      "cell_type": "markdown",
      "id": "34334c6c",
      "metadata": {
        "id": "34334c6c"
      },
      "source": [
        "**Q4.2** Does this clustering seem alright to you (based on your movie watching history)? Are there movies that go well together and movies that don't?"
      ]
    },
    {
      "cell_type": "markdown",
      "id": "9f1d40cc",
      "metadata": {
        "id": "9f1d40cc"
      },
      "source": [
        "*Not really, it seems like the group contains all sorts of movies from several ranging genres from Family movies to horror ones. However, overall a fantasy fiction movie seems to dominate putting together Avengers, Men in Black and Hobbit together. The different genres could span from the fact that the proc_genres summed all listed genres in 1 choosing randomly and a fantasy/fiction movie could also fit in several other genres.*"
      ]
    },
    {
      "cell_type": "markdown",
      "id": "0407f9e4",
      "metadata": {
        "id": "0407f9e4"
      },
      "source": [
        "**Q4.3** Now, we'll figure out whether using the elbow method is right for this dataset. Plot a loss (using `kmeans.inertia_`) versus cluster size plot. Is there an elbow that you see clearly? What cluster size would you choose?"
      ]
    },
    {
      "cell_type": "markdown",
      "id": "4984dcd9",
      "metadata": {
        "id": "4984dcd9"
      },
      "source": [
        "*There is not a very clear elbow, but it looks like the cluster of 5, so this is the one I would pick*"
      ]
    },
    {
      "cell_type": "code",
      "execution_count": 142,
      "id": "cb3a37ee",
      "metadata": {
        "id": "cb3a37ee",
        "colab": {
          "base_uri": "https://localhost:8080/",
          "height": 472
        },
        "outputId": "54736a94-2f0b-4f92-9456-b7b05f9a20ea"
      },
      "outputs": [
        {
          "output_type": "display_data",
          "data": {
            "text/plain": [
              "<Figure size 640x480 with 1 Axes>"
            ],
            "image/png": "[encoded data removed]"
          },
          "metadata": {}
        }
      ],
      "source": [
        "# your code answer here\n",
        "\n",
        "wcss = []\n",
        "k_values = range(1, 20)\n",
        "for k in k_values:\n",
        "    kmeans = KMeans(n_clusters=k)\n",
        "    kmeans.fit(x)\n",
        "    wcss.append(kmeans.inertia_)\n",
        "\n",
        "# Plot the elbow curve\n",
        "plt.plot(k_values, wcss, marker='o')\n",
        "plt.xlabel('Number of Clusters (K)')\n",
        "plt.ylabel('Within-Cluster Sum of Squares (WCSS)')\n",
        "plt.title('Elbow Method')\n",
        "plt.show()"
      ]
    },
    {
      "cell_type": "markdown",
      "id": "3e89e224",
      "metadata": {
        "id": "3e89e224"
      },
      "source": [
        "# Q5 Gaussian Mixture Models\n",
        "\n",
        "**Q5.1** As with the K-means above, cluster the movies based on the features that were extracted via PCA in a previous step. Set $K=20$. Add the predicted cluster into the dataframe as a new column called `cluster_gmm`. Print out the elements of a single cluster of your choice from the dataframe."
      ]
    },
    {
      "cell_type": "code",
      "execution_count": 143,
      "id": "86735028",
      "metadata": {
        "id": "86735028",
        "colab": {
          "base_uri": "https://localhost:8080/"
        },
        "outputId": "f40a4059-2575-4d0f-b692-15c999ad2acf"
      },
      "outputs": [
        {
          "output_type": "stream",
          "name": "stdout",
          "text": [
            "                                      title  \\\n",
            "3                     The Dark Knight Rises   \n",
            "11                        Quantum of Solace   \n",
            "42                              Toy Story 3   \n",
            "43                     Terminator Salvation   \n",
            "66                                       Up   \n",
            "...                                     ...   \n",
            "4722                      Hollywood Shuffle   \n",
            "4734  Peace, Propaganda & the Promised Land   \n",
            "4757                  This Is Martin Bonner   \n",
            "4768      Her Cry: La Llorona Investigation   \n",
            "4775                                Rampage   \n",
            "\n",
            "                                               overview  \\\n",
            "3     Following the death of District Attorney Harve...   \n",
            "11    Quantum of Solace continues the adventures of ...   \n",
            "42    Woody, Buzz, and the rest of Andy's toys haven...   \n",
            "43    All grown up in post-apocalyptic 2018, John Co...   \n",
            "66    Carl Fredricksen spent his entire life dreamin...   \n",
            "...                                                 ...   \n",
            "4722  Aspiring actor and hot-dog stand employee Bobb...   \n",
            "4734  This video shows how the foreign policy intere...   \n",
            "4757  Two men, at opposite ends of the social spectr...   \n",
            "4768  Crew of \"Paranormal Legends\" went to film thei...   \n",
            "4775  The boredom of small town life is eating Bill ...   \n",
            "\n",
            "                                                 genres  proc_genres  \\\n",
            "3     [{\"id\": 28, \"name\": \"Action\"}, {\"id\": 80, \"nam...     Thriller   \n",
            "11    [{\"id\": 12, \"name\": \"Adventure\"}, {\"id\": 28, \"...    Adventure   \n",
            "42    [{\"id\": 16, \"name\": \"Animation\"}, {\"id\": 10751...       Comedy   \n",
            "43    [{\"id\": 28, \"name\": \"Action\"}, {\"id\": 878, \"na...       Action   \n",
            "66    [{\"id\": 16, \"name\": \"Animation\"}, {\"id\": 35, \"...       Comedy   \n",
            "...                                                 ...          ...   \n",
            "4722                     [{\"id\": 35, \"name\": \"Comedy\"}]       Comedy   \n",
            "4734                [{\"id\": 99, \"name\": \"Documentary\"}]  Documentary   \n",
            "4757                      [{\"id\": 18, \"name\": \"Drama\"}]        Drama   \n",
            "4768                     [{\"id\": 27, \"name\": \"Horror\"}]       Horror   \n",
            "4775  [{\"id\": 28, \"name\": \"Action\"}, {\"id\": 18, \"nam...       Action   \n",
            "\n",
            "                                         one_hot_genres  \\\n",
            "3     [0.0, 0.0, 0.0, 0.0, 0.0, 0.0, 0.0, 0.0, 0.0, ...   \n",
            "11    [0.0, 1.0, 0.0, 0.0, 0.0, 0.0, 0.0, 0.0, 0.0, ...   \n",
            "42    [0.0, 0.0, 0.0, 1.0, 0.0, 0.0, 0.0, 0.0, 0.0, ...   \n",
            "43    [1.0, 0.0, 0.0, 0.0, 0.0, 0.0, 0.0, 0.0, 0.0, ...   \n",
            "66    [0.0, 0.0, 0.0, 1.0, 0.0, 0.0, 0.0, 0.0, 0.0, ...   \n",
            "...                                                 ...   \n",
            "4722  [0.0, 0.0, 0.0, 1.0, 0.0, 0.0, 0.0, 0.0, 0.0, ...   \n",
            "4734  [0.0, 0.0, 0.0, 0.0, 0.0, 1.0, 0.0, 0.0, 0.0, ...   \n",
            "4757  [0.0, 0.0, 0.0, 0.0, 0.0, 0.0, 1.0, 0.0, 0.0, ...   \n",
            "4768  [0.0, 0.0, 0.0, 0.0, 0.0, 0.0, 0.0, 0.0, 0.0, ...   \n",
            "4775  [1.0, 0.0, 0.0, 0.0, 0.0, 0.0, 0.0, 0.0, 0.0, ...   \n",
            "\n",
            "                                          proc_overview  overview_len  \\\n",
            "3     [following, the, death, of, district, attorney...            65   \n",
            "11    [quantum, of, solace, continues, the, adventur...            60   \n",
            "42    [woody, buzz, and, the, rest, of, andys, toys,...            45   \n",
            "43    [all, grown, up, in, postapocalyptic, 2018, jo...            51   \n",
            "66    [carl, fredricksen, spent, his, entire, life, ...            49   \n",
            "...                                                 ...           ...   \n",
            "4722  [aspiring, actor, and, hotdog, stand, employee...            68   \n",
            "4734  [this, video, shows, how, the, foreign, policy...            74   \n",
            "4757  [two, men, at, opposite, ends, of, the, social...            24   \n",
            "4768  [crew, of, paranormal, legends, went, to, film...            33   \n",
            "4775  [the, boredom, of, small, town, life, is, eati...            52   \n",
            "\n",
            "                                       one_hot_overview  \\\n",
            "3     [0.0, 0.0, 0.0, 0.0, 0.0, 0.0, 0.0, 0.0, 0.0, ...   \n",
            "11    [0.0, 0.0, 0.0, 0.0, 0.0, 0.0, 0.0, 0.0, 0.0, ...   \n",
            "42    [0.0, 0.0, 0.0, 0.0, 0.0, 0.0, 0.0, 0.0, 0.0, ...   \n",
            "43    [0.0, 0.0, 0.0, 0.0, 0.0, 0.0, 0.0, 0.0, 0.0, ...   \n",
            "66    [0.0, 0.0, 0.0, 0.0, 0.0, 0.0, 0.0, 0.0, 0.0, ...   \n",
            "...                                                 ...   \n",
            "4722  [0.0, 0.0, 0.0, 0.0, 0.0, 0.0, 0.0, 0.0, 0.0, ...   \n",
            "4734  [0.0, 0.0, 0.0, 0.0, 0.0, 0.0, 0.0, 0.0, 0.0, ...   \n",
            "4757  [0.0, 0.0, 0.0, 0.0, 0.0, 0.0, 0.0, 0.0, 0.0, ...   \n",
            "4768  [0.0, 0.0, 0.0, 0.0, 0.0, 0.0, 0.0, 0.0, 0.0, ...   \n",
            "4775  [0.0, 0.0, 0.0, 0.0, 0.0, 0.0, 0.0, 0.0, 0.0, ...   \n",
            "\n",
            "                                           overview_pca  cluster_kmeans  \\\n",
            "3     [0.8229543741731382, -0.4484862837342063, 0.59...               7   \n",
            "11    [1.2270146568905895, 0.07345794129161953, -0.3...               7   \n",
            "42    [0.8518980825260468, -0.4731606289663746, -0.8...              16   \n",
            "43    [0.9463091592982503, -0.21881766488174517, -0....              16   \n",
            "66    [0.7611514333522691, -0.805660940648446, 0.070...               1   \n",
            "...                                                 ...             ...   \n",
            "4722  [0.8263124718118032, -0.6614450937855276, -0.6...               1   \n",
            "4734  [0.924601191751544, -0.2078403021740376, -0.30...              16   \n",
            "4757  [0.9328265746037598, -0.22068365032753207, -0....              16   \n",
            "4768  [0.8456395044624555, -0.4639729799646756, 0.53...               7   \n",
            "4775  [0.8640608263561798, -0.44530433562162086, -0....               7   \n",
            "\n",
            "      cluster_gmm  \n",
            "3               0  \n",
            "11              0  \n",
            "42              0  \n",
            "43              0  \n",
            "66              0  \n",
            "...           ...  \n",
            "4722            0  \n",
            "4734            0  \n",
            "4757            0  \n",
            "4768            0  \n",
            "4775            0  \n",
            "\n",
            "[236 rows x 11 columns]\n"
          ]
        }
      ],
      "source": [
        "# Your code answer here\n",
        "from sklearn.mixture import GaussianMixture\n",
        "\n",
        "gmm = GaussianMixture(n_components=20)\n",
        "gmm.fit(x_train_pca)\n",
        "y_preds = gmm.predict(x_train_pca)\n",
        "df[\"cluster_gmm\"] = y_preds\n",
        "\n",
        "print(df[df[\"cluster_gmm\"] == 0])"
      ]
    },
    {
      "cell_type": "markdown",
      "id": "95ed02d9",
      "metadata": {
        "id": "95ed02d9"
      },
      "source": [
        "**Q5.2** Does this clustering seem alright to you (based on your movie watching history)? Are there movies that go well together and movies that don't? How does this compare to K-Means Clustering?"
      ]
    },
    {
      "cell_type": "markdown",
      "id": "c62e20dd",
      "metadata": {
        "id": "c62e20dd"
      },
      "source": [
        "*It does not seem to group that well, it puts several different movies together similar to K-Means Clustering. Nonetheless still some movies match like Toy Story 3 and Up both being animated, comedy movies, but it also clusters this together with Dark Knight Rises, a thriller.*"
      ]
    },
    {
      "cell_type": "markdown",
      "id": "3b0064a1",
      "metadata": {
        "id": "3b0064a1"
      },
      "source": [
        "**Q5.3** Let's check out the size of the clusters. Create a double bar plot (**as you did in the last assignment**) showing the different sizes of the clusters.\n",
        "\n",
        "*Hint: you may want to consider `df.value_counts()` if you're unfamiliar.*"
      ]
    },
    {
      "cell_type": "code",
      "execution_count": 151,
      "id": "e775ad4f",
      "metadata": {
        "id": "e775ad4f",
        "colab": {
          "base_uri": "https://localhost:8080/",
          "height": 472
        },
        "outputId": "b3907c47-c3c0-440a-8d35-be258ccba4af"
      },
      "outputs": [
        {
          "output_type": "display_data",
          "data": {
            "text/plain": [
              "<Figure size 640x480 with 1 Axes>"
            ],
            "image/png": "[encoded data removed]"
          },
          "metadata": {}
        }
      ],
      "source": [
        "# Create an array for the x-axis positions\n",
        "kmeans_Xs = df[\"cluster_kmeans\"].value_counts().sort_index()\n",
        "gmm_Xs = df[\"cluster_gmm\"].value_counts().sort_index()\n",
        "\n",
        "clusters = np.arange(0, 20)\n",
        "# Plotting the bars\n",
        "bar_width = 0.4\n",
        "plt.bar(clusters, kmeans_Xs, width=bar_width, label='KMeans')\n",
        "plt.bar(clusters + bar_width, gmm_Xs, width=bar_width, label='GMM')\n",
        "\n",
        "# Add labels, title, and legend\n",
        "plt.xlabel('Cluster')\n",
        "plt.ylabel('Size')\n",
        "plt.title('Cluster Size Comparison')\n",
        "plt.legend()\n",
        "plt.show()\n"
      ]
    },
    {
      "cell_type": "markdown",
      "id": "cfc124da",
      "metadata": {
        "id": "cfc124da"
      },
      "source": [
        "**Q5.4** Do you see a significant difference in the sizes of the clusters? Which is more uniform? Any thought on why?"
      ]
    },
    {
      "cell_type": "markdown",
      "id": "9f538519",
      "metadata": {
        "id": "9f538519"
      },
      "source": [
        "*Both vary a lot from K to K, at times for K-Means this is much larger but at other times it is not. Still, the GMM seams more uniform as KMeans has sometimes big spikes and very low drops, while for GMM this variance is lower. This could be because GMM clusters based on probabiltiy while KMeans through distance so more popular centroids might have more data attracted to it, creating a higher variance.*"
      ]
    },
    {
      "cell_type": "markdown",
      "source": [],
      "metadata": {
        "id": "wtQdZ1E4iIB4"
      },
      "id": "wtQdZ1E4iIB4"
    },
    {
      "cell_type": "markdown",
      "id": "aa60615d",
      "metadata": {
        "id": "aa60615d"
      },
      "source": [
        "# Q6: A very simple recommender system\n",
        "\n",
        "One useful thing that clustering is often used for (though at a much greater complexity) is in **recommender systems**. These are systems with users and items (movies, files, documents, etc.), where new items are shown to the user based on what they've previously interacted with, and possibly also on the behaviour of other users.\n",
        "\n",
        "**Q6.1** Assume your dentist has just watched the movie Avatar and asks you for a recommendation. Lucky for you, you just finished this assignment. Using the cluster indices of the movie Avatar for both the K-means and GMM methods, print out suggestions for new movies."
      ]
    },
    {
      "cell_type": "code",
      "execution_count": 152,
      "id": "86a74f68",
      "metadata": {
        "id": "86a74f68",
        "colab": {
          "base_uri": "https://localhost:8080/"
        },
        "outputId": "308c00ab-c6a1-4650-a054-21bc9f3a4457"
      },
      "outputs": [
        {
          "output_type": "stream",
          "name": "stdout",
          "text": [
            "K-Means recommendations:\n",
            "0                          Avatar\n",
            "6                         Tangled\n",
            "61              Jupiter Ascending\n",
            "68                       Iron Man\n",
            "69                           Hugo\n",
            "                  ...            \n",
            "4752                     Counting\n",
            "4776                      Slacker\n",
            "4781              The Puffy Chair\n",
            "4793                       Primer\n",
            "4797    Signed, Sealed, Delivered\n",
            "Name: title, Length: 365, dtype: object\n",
            "GMM recommendations:\n",
            "0                            Avatar\n",
            "13                  The Lone Ranger\n",
            "46       X-Men: Days of Future Past\n",
            "55                            Brave\n",
            "56                 Star Trek Beyond\n",
            "                   ...             \n",
            "4663                           Burn\n",
            "4728          Indie Game: The Movie\n",
            "4736    I Love You, Don't Touch Me!\n",
            "4755                     The Signal\n",
            "4766        The Legend of God's Gun\n",
            "Name: title, Length: 272, dtype: object\n"
          ]
        }
      ],
      "source": [
        "prev_watch = \"Avatar\"\n",
        "\n",
        "cluster_kmeans = df[df[\"title\"] == prev_watch][\"cluster_kmeans\"].values[0]\n",
        "cluster_gmm = df[df[\"title\"] == prev_watch][\"cluster_gmm\"].values[0]\n",
        "\n",
        "# print out similar movies\n",
        "print(\"K-Means recommendations:\")\n",
        "print(df[df[\"cluster_kmeans\"] == cluster_kmeans][\"title\"])\n",
        "print(\"GMM recommendations:\")\n",
        "print(df[df[\"cluster_gmm\"] == cluster_gmm][\"title\"])"
      ]
    },
    {
      "cell_type": "code",
      "source": [],
      "metadata": {
        "id": "bdhF-9tmKjST"
      },
      "id": "bdhF-9tmKjST",
      "execution_count": null,
      "outputs": []
    },
    {
      "cell_type": "markdown",
      "id": "4ecec1ff",
      "metadata": {
        "id": "4ecec1ff"
      },
      "source": [
        "**Q6.2** Are any of the two recommender systems any good? Would you use them if your real dentist asks for a movie suggestion?"
      ]
    },
    {
      "cell_type": "markdown",
      "id": "aae96b8a",
      "metadata": {
        "id": "aae96b8a"
      },
      "source": [
        "*Based on the movies I know out of the recommended ones, maybe a few, Star Trek is kind of similar and Iron Man is also an action movie but not as Sci-Fi. However, it also ecommended movies like Hugo, Brave or Tangled which I would not recommend based on Avatar*"
      ]
    },
    {
      "cell_type": "markdown",
      "id": "92b84753",
      "metadata": {
        "id": "92b84753"
      },
      "source": [
        "**Q6.3** How would you try making the recommender systems better?"
      ]
    },
    {
      "cell_type": "markdown",
      "id": "40d3f6dd",
      "metadata": {
        "id": "40d3f6dd"
      },
      "source": [
        "*To make them better I would also give movies a rating for each genre, as specifying only on genre can be a too broad. Many movies are often simultaneously several different genres and the combination between all of them must be taken into account for better accuracy. Also, the Principal Component Analysis was based on 15 overview words 15, so the clustering may also be derived due to combining words like 'the', 'a' and so on which could be common for any movie. So clustering through genre ratings might be a better way to go.*"
      ]
    },
    {
      "cell_type": "markdown",
      "id": "7df2d34a",
      "metadata": {
        "id": "7df2d34a"
      },
      "source": [
        "**Q6.4** Say your dentist likes the movies you suggested and has watched a few more since you met him last. How would you incorporate this fact (recommendation based on multiple movies) into your suggestions?"
      ]
    },
    {
      "cell_type": "markdown",
      "id": "b3549de4",
      "metadata": {
        "id": "b3549de4"
      },
      "source": [
        "*I would create eate an array of the previous movies watched. Then get the pca overview of these movies and average them out. Finally, I would perform cosine similarity to find more recommendations*"
      ]
    },
    {
      "cell_type": "markdown",
      "id": "f20b74ce",
      "metadata": {
        "id": "f20b74ce"
      },
      "source": [
        "**Q6.5** An alternative method for recommendations is to use your encoded movie-feature vectors (in this case your overview+PCA vector) in order to find out what movie may be most similar to the current one. In the case of K-Means and GMMs, \"similarity\" referred to Euclidean distance. However, in this exercise, we will use *cosine similarity*, which is another very common similarity measure, and is related to the angle between two vectors. It is defined as:\n",
        "\n",
        "$$sim(v_1, v_2)=\\frac{v_1\\cdot v_2}{||v_1||\\cdot||v_2||}$$\n",
        "\n",
        "Where $v_1$ and $v_2$ are vectors and the operator $||\\cdot||$ is the norm of the vector. The function ranges from $[-1,1]$ (where 1 means that the vectors point in the same direction).\n",
        "\n",
        "Define an appropriate function `cosine_sim`. Add a column called `cos_sim_to_avatar` in the df and print out the head of the df, sorted by the similarity. What movies would you recommend now? Is this better than the clustering methods?"
      ]
    },
    {
      "cell_type": "code",
      "execution_count": 153,
      "id": "cedf60f3",
      "metadata": {
        "id": "cedf60f3",
        "colab": {
          "base_uri": "https://localhost:8080/",
          "height": 608
        },
        "outputId": "0eee0afd-2d40-4c69-ffef-b448c80ff1d4"
      },
      "outputs": [
        {
          "output_type": "execute_result",
          "data": {
            "text/plain": [
              "                   title                                           overview  \\\n",
              "0                 Avatar  In the 22nd century, a paraplegic Marine is di...   \n",
              "3363             Warlock  A warlock flees from the 17th to the 20th cent...   \n",
              "1285  Nomad: The Warrior  The Nomad is a historical epic set in 18th-cen...   \n",
              "3778              Zipper  Sam Ellis is a man on the rise — a hot-shot fe...   \n",
              "415                Dredd  In the future, America is a dystopian wastelan...   \n",
              "\n",
              "                                                 genres proc_genres  \\\n",
              "0     [{\"id\": 28, \"name\": \"Action\"}, {\"id\": 12, \"nam...      Action   \n",
              "3363  [{\"id\": 12, \"name\": \"Adventure\"}, {\"id\": 35, \"...     Fantasy   \n",
              "1285  [{\"id\": 28, \"name\": \"Action\"}, {\"id\": 36, \"nam...      Action   \n",
              "3778  [{\"id\": 53, \"name\": \"Thriller\"}, {\"id\": 18, \"n...    Thriller   \n",
              "415   [{\"id\": 28, \"name\": \"Action\"}, {\"id\": 878, \"na...      Action   \n",
              "\n",
              "                                         one_hot_genres  \\\n",
              "0     [1.0, 0.0, 0.0, 0.0, 0.0, 0.0, 0.0, 0.0, 0.0, ...   \n",
              "3363  [0.0, 0.0, 0.0, 0.0, 0.0, 0.0, 0.0, 0.0, 1.0, ...   \n",
              "1285  [1.0, 0.0, 0.0, 0.0, 0.0, 0.0, 0.0, 0.0, 0.0, ...   \n",
              "3778  [0.0, 0.0, 0.0, 0.0, 0.0, 0.0, 0.0, 0.0, 0.0, ...   \n",
              "415   [1.0, 0.0, 0.0, 0.0, 0.0, 0.0, 0.0, 0.0, 0.0, ...   \n",
              "\n",
              "                                          proc_overview  overview_len  \\\n",
              "0     [in, the, 22nd, century, a, paraplegic, marine...            28   \n",
              "3363  [a, warlock, flees, from, the, 17th, to, the, ...           122   \n",
              "1285  [the, nomad, is, a, historical, epic, set, in,...            39   \n",
              "3778  [sam, ellis, is, a, man, on, the, rise, a, hot...            48   \n",
              "415   [in, the, future, america, is, a, dystopian, w...            87   \n",
              "\n",
              "                                       one_hot_overview  \\\n",
              "0     [0.0, 0.0, 0.0, 0.0, 0.0, 0.0, 0.0, 0.0, 0.0, ...   \n",
              "3363  [0.0, 0.0, 0.0, 0.0, 0.0, 0.0, 0.0, 0.0, 0.0, ...   \n",
              "1285  [0.0, 0.0, 0.0, 0.0, 0.0, 0.0, 0.0, 0.0, 0.0, ...   \n",
              "3778  [0.0, 0.0, 0.0, 0.0, 0.0, 0.0, 0.0, 0.0, 0.0, ...   \n",
              "415   [0.0, 0.0, 0.0, 0.0, 0.0, 0.0, 0.0, 0.0, 0.0, ...   \n",
              "\n",
              "                                           overview_pca  cluster_kmeans  \\\n",
              "0     [0.1713055627512364, 1.2545637565431198, 1.062...               4   \n",
              "3363  [0.14285163674539383, 1.1940360295714645, 1.00...               4   \n",
              "1285  [0.2502330102123467, 1.4192751540293158, 0.331...               4   \n",
              "3778  [0.21497561521978167, 1.408547801773044, 0.514...              10   \n",
              "415   [0.23152067361939, 1.4016470372926215, 0.35699...               4   \n",
              "\n",
              "      cluster_gmm  cos_sim_to_avatar  \n",
              "0               6           1.000000  \n",
              "3363            6           0.531251  \n",
              "1285           14           0.478258  \n",
              "3778            6           0.472356  \n",
              "415            14           0.461385  "
            ],
            "text/html": [
              "\n",
              "  <div id=\"df-d72227d3-d9da-46e3-aaed-b2575330f2b3\" class=\"colab-df-container\">\n",
              "    <div>\n",
              "<style scoped>\n",
              "    .dataframe tbody tr th:only-of-type {\n",
              "        vertical-align: middle;\n",
              "    }\n",
              "\n",
              "    .dataframe tbody tr th {\n",
              "        vertical-align: top;\n",
              "    }\n",
              "\n",
              "    .dataframe thead th {\n",
              "        text-align: right;\n",
              "    }\n",
              "</style>\n",
              "<table border=\"1\" class=\"dataframe\">\n",
              "  <thead>\n",
              "    <tr style=\"text-align: right;\">\n",
              "      <th></th>\n",
              "      <th>title</th>\n",
              "      <th>overview</th>\n",
              "      <th>genres</th>\n",
              "      <th>proc_genres</th>\n",
              "      <th>one_hot_genres</th>\n",
              "      <th>proc_overview</th>\n",
              "      <th>overview_len</th>\n",
              "      <th>one_hot_overview</th>\n",
              "      <th>overview_pca</th>\n",
              "      <th>cluster_kmeans</th>\n",
              "      <th>cluster_gmm</th>\n",
              "      <th>cos_sim_to_avatar</th>\n",
              "    </tr>\n",
              "  </thead>\n",
              "  <tbody>\n",
              "    <tr>\n",
              "      <th>0</th>\n",
              "      <td>Avatar</td>\n",
              "      <td>In the 22nd century, a paraplegic Marine is di...</td>\n",
              "      <td>[{\"id\": 28, \"name\": \"Action\"}, {\"id\": 12, \"nam...</td>\n",
              "      <td>Action</td>\n",
              "      <td>[1.0, 0.0, 0.0, 0.0, 0.0, 0.0, 0.0, 0.0, 0.0, ...</td>\n",
              "      <td>[in, the, 22nd, century, a, paraplegic, marine...</td>\n",
              "      <td>28</td>\n",
              "      <td>[0.0, 0.0, 0.0, 0.0, 0.0, 0.0, 0.0, 0.0, 0.0, ...</td>\n",
              "      <td>[0.1713055627512364, 1.2545637565431198, 1.062...</td>\n",
              "      <td>4</td>\n",
              "      <td>6</td>\n",
              "      <td>1.000000</td>\n",
              "    </tr>\n",
              "    <tr>\n",
              "      <th>3363</th>\n",
              "      <td>Warlock</td>\n",
              "      <td>A warlock flees from the 17th to the 20th cent...</td>\n",
              "      <td>[{\"id\": 12, \"name\": \"Adventure\"}, {\"id\": 35, \"...</td>\n",
              "      <td>Fantasy</td>\n",
              "      <td>[0.0, 0.0, 0.0, 0.0, 0.0, 0.0, 0.0, 0.0, 1.0, ...</td>\n",
              "      <td>[a, warlock, flees, from, the, 17th, to, the, ...</td>\n",
              "      <td>122</td>\n",
              "      <td>[0.0, 0.0, 0.0, 0.0, 0.0, 0.0, 0.0, 0.0, 0.0, ...</td>\n",
              "      <td>[0.14285163674539383, 1.1940360295714645, 1.00...</td>\n",
              "      <td>4</td>\n",
              "      <td>6</td>\n",
              "      <td>0.531251</td>\n",
              "    </tr>\n",
              "    <tr>\n",
              "      <th>1285</th>\n",
              "      <td>Nomad: The Warrior</td>\n",
              "      <td>The Nomad is a historical epic set in 18th-cen...</td>\n",
              "      <td>[{\"id\": 28, \"name\": \"Action\"}, {\"id\": 36, \"nam...</td>\n",
              "      <td>Action</td>\n",
              "      <td>[1.0, 0.0, 0.0, 0.0, 0.0, 0.0, 0.0, 0.0, 0.0, ...</td>\n",
              "      <td>[the, nomad, is, a, historical, epic, set, in,...</td>\n",
              "      <td>39</td>\n",
              "      <td>[0.0, 0.0, 0.0, 0.0, 0.0, 0.0, 0.0, 0.0, 0.0, ...</td>\n",
              "      <td>[0.2502330102123467, 1.4192751540293158, 0.331...</td>\n",
              "      <td>4</td>\n",
              "      <td>14</td>\n",
              "      <td>0.478258</td>\n",
              "    </tr>\n",
              "    <tr>\n",
              "      <th>3778</th>\n",
              "      <td>Zipper</td>\n",
              "      <td>Sam Ellis is a man on the rise — a hot-shot fe...</td>\n",
              "      <td>[{\"id\": 53, \"name\": \"Thriller\"}, {\"id\": 18, \"n...</td>\n",
              "      <td>Thriller</td>\n",
              "      <td>[0.0, 0.0, 0.0, 0.0, 0.0, 0.0, 0.0, 0.0, 0.0, ...</td>\n",
              "      <td>[sam, ellis, is, a, man, on, the, rise, a, hot...</td>\n",
              "      <td>48</td>\n",
              "      <td>[0.0, 0.0, 0.0, 0.0, 0.0, 0.0, 0.0, 0.0, 0.0, ...</td>\n",
              "      <td>[0.21497561521978167, 1.408547801773044, 0.514...</td>\n",
              "      <td>10</td>\n",
              "      <td>6</td>\n",
              "      <td>0.472356</td>\n",
              "    </tr>\n",
              "    <tr>\n",
              "      <th>415</th>\n",
              "      <td>Dredd</td>\n",
              "      <td>In the future, America is a dystopian wastelan...</td>\n",
              "      <td>[{\"id\": 28, \"name\": \"Action\"}, {\"id\": 878, \"na...</td>\n",
              "      <td>Action</td>\n",
              "      <td>[1.0, 0.0, 0.0, 0.0, 0.0, 0.0, 0.0, 0.0, 0.0, ...</td>\n",
              "      <td>[in, the, future, america, is, a, dystopian, w...</td>\n",
              "      <td>87</td>\n",
              "      <td>[0.0, 0.0, 0.0, 0.0, 0.0, 0.0, 0.0, 0.0, 0.0, ...</td>\n",
              "      <td>[0.23152067361939, 1.4016470372926215, 0.35699...</td>\n",
              "      <td>4</td>\n",
              "      <td>14</td>\n",
              "      <td>0.461385</td>\n",
              "    </tr>\n",
              "  </tbody>\n",
              "</table>\n",
              "</div>\n",
              "    <div class=\"colab-df-buttons\">\n",
              "\n",
              "  <div class=\"colab-df-container\">\n",
              "    <button class=\"colab-df-convert\" onclick=\"convertToInteractive('df-d72227d3-d9da-46e3-aaed-b2575330f2b3')\"\n",
              "            title=\"Convert this dataframe to an interactive table.\"\n",
              "            style=\"display:none;\">\n",
              "\n",
              "  <svg xmlns=\"http://www.w3.org/2000/svg\" height=\"24px\" viewBox=\"0 -960 960 960\">\n",
              "    <path d=\"M120-120v-720h720v720H120Zm60-500h600v-160H180v160Zm220 220h160v-160H400v160Zm0 220h160v-160H400v160ZM180-400h160v-160H180v160Zm440 0h160v-160H620v160ZM180-180h160v-160H180v160Zm440 0h160v-160H620v160Z\"/>\n",
              "  </svg>\n",
              "    </button>\n",
              "\n",
              "  <style>\n",
              "    .colab-df-container {\n",
              "      display:flex;\n",
              "      gap: 12px;\n",
              "    }\n",
              "\n",
              "    .colab-df-convert {\n",
              "      background-color: #E8F0FE;\n",
              "      border: none;\n",
              "      border-radius: 50%;\n",
              "      cursor: pointer;\n",
              "      display: none;\n",
              "      fill: #1967D2;\n",
              "      height: 32px;\n",
              "      padding: 0 0 0 0;\n",
              "      width: 32px;\n",
              "    }\n",
              "\n",
              "    .colab-df-convert:hover {\n",
              "      background-color: #E2EBFA;\n",
              "      box-shadow: 0px 1px 2px rgba(60, 64, 67, 0.3), 0px 1px 3px 1px rgba(60, 64, 67, 0.15);\n",
              "      fill: #174EA6;\n",
              "    }\n",
              "\n",
              "    .colab-df-buttons div {\n",
              "      margin-bottom: 4px;\n",
              "    }\n",
              "\n",
              "    [theme=dark] .colab-df-convert {\n",
              "      background-color: #3B4455;\n",
              "      fill: #D2E3FC;\n",
              "    }\n",
              "\n",
              "    [theme=dark] .colab-df-convert:hover {\n",
              "      background-color: #434B5C;\n",
              "      box-shadow: 0px 1px 3px 1px rgba(0, 0, 0, 0.15);\n",
              "      filter: drop-shadow(0px 1px 2px rgba(0, 0, 0, 0.3));\n",
              "      fill: #FFFFFF;\n",
              "    }\n",
              "  </style>\n",
              "\n",
              "    <script>\n",
              "      const buttonEl =\n",
              "        document.querySelector('#df-d72227d3-d9da-46e3-aaed-b2575330f2b3 button.colab-df-convert');\n",
              "      buttonEl.style.display =\n",
              "        google.colab.kernel.accessAllowed ? 'block' : 'none';\n",
              "\n",
              "      async function convertToInteractive(key) {\n",
              "        const element = document.querySelector('#df-d72227d3-d9da-46e3-aaed-b2575330f2b3');\n",
              "        const dataTable =\n",
              "          await google.colab.kernel.invokeFunction('convertToInteractive',\n",
              "                                                    [key], {});\n",
              "        if (!dataTable) return;\n",
              "\n",
              "        const docLinkHtml = 'Like what you see? Visit the ' +\n",
              "          '<a target=\"_blank\" href=https://colab.research.google.com/notebooks/data_table.ipynb>data table notebook</a>'\n",
              "          + ' to learn more about interactive tables.';\n",
              "        element.innerHTML = '';\n",
              "        dataTable['output_type'] = 'display_data';\n",
              "        await google.colab.output.renderOutput(dataTable, element);\n",
              "        const docLink = document.createElement('div');\n",
              "        docLink.innerHTML = docLinkHtml;\n",
              "        element.appendChild(docLink);\n",
              "      }\n",
              "    </script>\n",
              "  </div>\n",
              "\n",
              "\n",
              "<div id=\"df-87ce77a6-e19f-4478-bf64-985eb17c979e\">\n",
              "  <button class=\"colab-df-quickchart\" onclick=\"quickchart('df-87ce77a6-e19f-4478-bf64-985eb17c979e')\"\n",
              "            title=\"Suggest charts\"\n",
              "            style=\"display:none;\">\n",
              "\n",
              "<svg xmlns=\"http://www.w3.org/2000/svg\" height=\"24px\"viewBox=\"0 0 24 24\"\n",
              "     width=\"24px\">\n",
              "    <g>\n",
              "        <path d=\"M19 3H5c-1.1 0-2 .9-2 2v14c0 1.1.9 2 2 2h14c1.1 0 2-.9 2-2V5c0-1.1-.9-2-2-2zM9 17H7v-7h2v7zm4 0h-2V7h2v10zm4 0h-2v-4h2v4z\"/>\n",
              "    </g>\n",
              "</svg>\n",
              "  </button>\n",
              "\n",
              "<style>\n",
              "  .colab-df-quickchart {\n",
              "      --bg-color: #E8F0FE;\n",
              "      --fill-color: #1967D2;\n",
              "      --hover-bg-color: #E2EBFA;\n",
              "      --hover-fill-color: #174EA6;\n",
              "      --disabled-fill-color: #AAA;\n",
              "      --disabled-bg-color: #DDD;\n",
              "  }\n",
              "\n",
              "  [theme=dark] .colab-df-quickchart {\n",
              "      --bg-color: #3B4455;\n",
              "      --fill-color: #D2E3FC;\n",
              "      --hover-bg-color: #434B5C;\n",
              "      --hover-fill-color: #FFFFFF;\n",
              "      --disabled-bg-color: #3B4455;\n",
              "      --disabled-fill-color: #666;\n",
              "  }\n",
              "\n",
              "  .colab-df-quickchart {\n",
              "    background-color: var(--bg-color);\n",
              "    border: none;\n",
              "    border-radius: 50%;\n",
              "    cursor: pointer;\n",
              "    display: none;\n",
              "    fill: var(--fill-color);\n",
              "    height: 32px;\n",
              "    padding: 0;\n",
              "    width: 32px;\n",
              "  }\n",
              "\n",
              "  .colab-df-quickchart:hover {\n",
              "    background-color: var(--hover-bg-color);\n",
              "    box-shadow: 0 1px 2px rgba(60, 64, 67, 0.3), 0 1px 3px 1px rgba(60, 64, 67, 0.15);\n",
              "    fill: var(--button-hover-fill-color);\n",
              "  }\n",
              "\n",
              "  .colab-df-quickchart-complete:disabled,\n",
              "  .colab-df-quickchart-complete:disabled:hover {\n",
              "    background-color: var(--disabled-bg-color);\n",
              "    fill: var(--disabled-fill-color);\n",
              "    box-shadow: none;\n",
              "  }\n",
              "\n",
              "  .colab-df-spinner {\n",
              "    border: 2px solid var(--fill-color);\n",
              "    border-color: transparent;\n",
              "    border-bottom-color: var(--fill-color);\n",
              "    animation:\n",
              "      spin 1s steps(1) infinite;\n",
              "  }\n",
              "\n",
              "  @keyframes spin {\n",
              "    0% {\n",
              "      border-color: transparent;\n",
              "      border-bottom-color: var(--fill-color);\n",
              "      border-left-color: var(--fill-color);\n",
              "    }\n",
              "    20% {\n",
              "      border-color: transparent;\n",
              "      border-left-color: var(--fill-color);\n",
              "      border-top-color: var(--fill-color);\n",
              "    }\n",
              "    30% {\n",
              "      border-color: transparent;\n",
              "      border-left-color: var(--fill-color);\n",
              "      border-top-color: var(--fill-color);\n",
              "      border-right-color: var(--fill-color);\n",
              "    }\n",
              "    40% {\n",
              "      border-color: transparent;\n",
              "      border-right-color: var(--fill-color);\n",
              "      border-top-color: var(--fill-color);\n",
              "    }\n",
              "    60% {\n",
              "      border-color: transparent;\n",
              "      border-right-color: var(--fill-color);\n",
              "    }\n",
              "    80% {\n",
              "      border-color: transparent;\n",
              "      border-right-color: var(--fill-color);\n",
              "      border-bottom-color: var(--fill-color);\n",
              "    }\n",
              "    90% {\n",
              "      border-color: transparent;\n",
              "      border-bottom-color: var(--fill-color);\n",
              "    }\n",
              "  }\n",
              "</style>\n",
              "\n",
              "  <script>\n",
              "    async function quickchart(key) {\n",
              "      const quickchartButtonEl =\n",
              "        document.querySelector('#' + key + ' button');\n",
              "      quickchartButtonEl.disabled = true;  // To prevent multiple clicks.\n",
              "      quickchartButtonEl.classList.add('colab-df-spinner');\n",
              "      try {\n",
              "        const charts = await google.colab.kernel.invokeFunction(\n",
              "            'suggestCharts', [key], {});\n",
              "      } catch (error) {\n",
              "        console.error('Error during call to suggestCharts:', error);\n",
              "      }\n",
              "      quickchartButtonEl.classList.remove('colab-df-spinner');\n",
              "      quickchartButtonEl.classList.add('colab-df-quickchart-complete');\n",
              "    }\n",
              "    (() => {\n",
              "      let quickchartButtonEl =\n",
              "        document.querySelector('#df-87ce77a6-e19f-4478-bf64-985eb17c979e button');\n",
              "      quickchartButtonEl.style.display =\n",
              "        google.colab.kernel.accessAllowed ? 'block' : 'none';\n",
              "    })();\n",
              "  </script>\n",
              "</div>\n",
              "\n",
              "    </div>\n",
              "  </div>\n"
            ],
            "application/vnd.google.colaboratory.intrinsic+json": {
              "type": "dataframe",
              "variable_name": "df",
              "summary": "{\n  \"name\": \"df\",\n  \"rows\": 4707,\n  \"fields\": [\n    {\n      \"column\": \"title\",\n      \"properties\": {\n        \"dtype\": \"string\",\n        \"num_unique_values\": 4704,\n        \"samples\": [\n          \"This Is It\",\n          \"Mutual Friends\",\n          \"Dolphins and Whales: Tribes of the Ocean\"\n        ],\n        \"semantic_type\": \"\",\n        \"description\": \"\"\n      }\n    },\n    {\n      \"column\": \"overview\",\n      \"properties\": {\n        \"dtype\": \"string\",\n        \"num_unique_values\": 4707,\n        \"samples\": [\n          \"Steve Clark (James Marsden) is a newcomer in the town of Cradle Bay, and he quickly realizes that there's something odd about his high school classmates. The clique known as the \\\"Blue Ribbons\\\" are the eerie embodiment of academic excellence and clean living. But, like the rest of the town, they're a little too perfect. When Steve's rebellious friend Gavin (Nick Stahl) mysteriously joins their ranks, Steve searches for the truth with fellow misfit Rachel (Katie Holmes).\",\n          \"A young man struggles to access sublimated childhood memories. He finds a technique that allows him to travel back into the past, to occupy his childhood body and change history. However, he soon finds that every change he makes has unexpected consequences.\",\n          \"Treasure hunter Ben \\\"Finn\\\" Finnegan has sunk his marriage to Tess and his trusty boat in his obsessive quest to find the legendary Queen's Dowry. When he finds a vital clue that may finally pinpoint the treasure's whereabouts, he drags Tess and her boss, billionaire Nigel Honeycutt, along on the hunt. But Finn is not the only one interested in the gold; his former mentor-turned-enemy Moe Fitch will stop at nothing to beat him to it.\"\n        ],\n        \"semantic_type\": \"\",\n        \"description\": \"\"\n      }\n    },\n    {\n      \"column\": \"genres\",\n      \"properties\": {\n        \"dtype\": \"category\",\n        \"num_unique_values\": 1165,\n        \"samples\": [\n          \"[{\\\"id\\\": 28, \\\"name\\\": \\\"Action\\\"}, {\\\"id\\\": 35, \\\"name\\\": \\\"Comedy\\\"}, {\\\"id\\\": 10751, \\\"name\\\": \\\"Family\\\"}, {\\\"id\\\": 12, \\\"name\\\": \\\"Adventure\\\"}]\",\n          \"[]\",\n          \"[{\\\"id\\\": 28, \\\"name\\\": \\\"Action\\\"}, {\\\"id\\\": 80, \\\"name\\\": \\\"Crime\\\"}]\"\n        ],\n        \"semantic_type\": \"\",\n        \"description\": \"\"\n      }\n    },\n    {\n      \"column\": \"proc_genres\",\n      \"properties\": {\n        \"dtype\": \"category\",\n        \"num_unique_values\": 21,\n        \"samples\": [\n          \"Action\",\n          \"Western\",\n          \"Foreign\"\n        ],\n        \"semantic_type\": \"\",\n        \"description\": \"\"\n      }\n    },\n    {\n      \"column\": \"one_hot_genres\",\n      \"properties\": {\n        \"dtype\": \"object\",\n        \"semantic_type\": \"\",\n        \"description\": \"\"\n      }\n    },\n    {\n      \"column\": \"proc_overview\",\n      \"properties\": {\n        \"dtype\": \"object\",\n        \"semantic_type\": \"\",\n        \"description\": \"\"\n      }\n    },\n    {\n      \"column\": \"overview_len\",\n      \"properties\": {\n        \"dtype\": \"number\",\n        \"std\": 27,\n        \"min\": 15,\n        \"max\": 175,\n        \"num_unique_values\": 154,\n        \"samples\": [\n          56,\n          150,\n          170\n        ],\n        \"semantic_type\": \"\",\n        \"description\": \"\"\n      }\n    },\n    {\n      \"column\": \"one_hot_overview\",\n      \"properties\": {\n        \"dtype\": \"object\",\n        \"semantic_type\": \"\",\n        \"description\": \"\"\n      }\n    },\n    {\n      \"column\": \"overview_pca\",\n      \"properties\": {\n        \"dtype\": \"object\",\n        \"semantic_type\": \"\",\n        \"description\": \"\"\n      }\n    },\n    {\n      \"column\": \"cluster_kmeans\",\n      \"properties\": {\n        \"dtype\": \"int32\",\n        \"num_unique_values\": 20,\n        \"samples\": [\n          4,\n          7,\n          9\n        ],\n        \"semantic_type\": \"\",\n        \"description\": \"\"\n      }\n    },\n    {\n      \"column\": \"cluster_gmm\",\n      \"properties\": {\n        \"dtype\": \"number\",\n        \"std\": 5,\n        \"min\": 0,\n        \"max\": 19,\n        \"num_unique_values\": 20,\n        \"samples\": [\n          6,\n          5,\n          8\n        ],\n        \"semantic_type\": \"\",\n        \"description\": \"\"\n      }\n    },\n    {\n      \"column\": \"cos_sim_to_avatar\",\n      \"properties\": {\n        \"dtype\": \"number\",\n        \"std\": 0.13726572919294622,\n        \"min\": -0.3380280354101894,\n        \"max\": 1.0,\n        \"num_unique_values\": 4707,\n        \"samples\": [\n          0.09093403660086041,\n          0.045757266616884645,\n          -0.2059910983170914\n        ],\n        \"semantic_type\": \"\",\n        \"description\": \"\"\n      }\n    }\n  ]\n}"
            }
          },
          "metadata": {},
          "execution_count": 153
        }
      ],
      "source": [
        "def cosine_sim(v1, v2):\n",
        "  norm1 = np.linalg.norm(v1)\n",
        "  norm2 = np.linalg.norm(v2)\n",
        "  sim = np.dot(v1, v2) / (norm1 * norm2)\n",
        "  return sim\n",
        "\n",
        "# get overview_pca encoding of previously watched film\n",
        "prev_watch_enc = df[df[\"title\"] == prev_watch][\"overview_pca\"].values[0]\n",
        "\n",
        "sims = [] # set up place to store similarities\n",
        "for i, row in df.iterrows():\n",
        "    sims.append(cosine_sim(prev_watch_enc, row[\"overview_pca\"]))\n",
        "\n",
        "df[\"cos_sim_to_avatar\"] = sims\n",
        "df = df.sort_values(by=\"cos_sim_to_avatar\", ascending=False) #sort df\n",
        "df.head()"
      ]
    },
    {
      "cell_type": "markdown",
      "id": "40391e82",
      "metadata": {
        "id": "40391e82"
      },
      "source": [
        "*I haven't seen any of these new movies recommended ('Warlock', 'Nomad: The Warrior', 'Zipper', 'Dredd') but based on the movie's overview, they seem quite similar to Avatar, with more dystopian/ Sci-Fi movies, similar to Avatar. It seems better than the clustering method, with more precise and tailored recommendations *"
      ]
    },
    {
      "cell_type": "markdown",
      "id": "a7b1e343",
      "metadata": {
        "id": "a7b1e343"
      },
      "source": [
        "# Q7 Unsupervised Learning as a Tool\n",
        "\n",
        "At the end of this brief forey into natural language processing, we will end with an interesting task: can a machine predict the genre of a movie based purely on the first 10 words of its overview?\n",
        "\n",
        "First, the following cell shuffles the dataset and splits it into a training and test set. The random seed and random state ensure that the train and test samples are the same for you all the time, and *probably* your classmates too. You can verify this by printing out the dataframes and checking it for yourself."
      ]
    },
    {
      "cell_type": "code",
      "execution_count": 154,
      "id": "f5b1bde1",
      "metadata": {
        "id": "f5b1bde1",
        "colab": {
          "base_uri": "https://localhost:8080/"
        },
        "outputId": "2794d625-c4b6-467c-a8c3-6842700557b8"
      },
      "outputs": [
        {
          "output_type": "stream",
          "name": "stdout",
          "text": [
            "3765 942\n"
          ]
        }
      ],
      "source": [
        "np.random.seed(0)\n",
        "n_train = int(0.8*len(df))\n",
        "df_shuffle = df.sample(frac=1, random_state=42).reset_index(drop=True)\n",
        "df_train = df_shuffle[:n_train].reset_index(drop=True)\n",
        "df_test = df_shuffle[n_train:].reset_index(drop=True)\n",
        "print(len(df_train), len(df_test))"
      ]
    },
    {
      "cell_type": "markdown",
      "id": "92f9d534",
      "metadata": {
        "id": "92f9d534"
      },
      "source": [
        "## Train, test, evaluate\n",
        "\n",
        "Using a supervised learning method of your choice, try predicting the genre of a movie from the overview. The way you preprocess your data is up to you, and you can take inspiration from the above exercises (e.g. PCA on the one-hot encodings as input, one-hot label encodings as output). There are a number of hyperparameters you can choose depending on your selected method (number of words in your overview, number of dimensions, number of clusters, hyperparameters of your supervised model...), thus, make sure to perform hyperparameter optimization in some way (grid-search, fine-tuning, etc). Once you are happy with how your model is performing, **print out the train_score (accuracy$\\in[0,1]$), test_score (accuracy$\\in[0,1]$), mean training time (in seconds), and mean inference time (in seconds) of your model**.\n",
        "\n",
        "If you are already excited about neural networks, you may also choose to use that as your supervised method. The easiest way to do it is with sklearn's `MLPClassifier` module. The main hyperparameter you would need to tune is the architecture of your model -- how many hidden layers, and how large is each one. For this task, in order to get best performance, you do not necessarily need an MLP (multi-layer perceptron) but feel free to experiment.\n",
        "\n",
        "*Hint: the `train_and_eval` function from the last assignment should be of great help here*"
      ]
    },
    {
      "cell_type": "code",
      "source": [
        "from sklearn.ensemble import RandomForestClassifier as RFC\n",
        "from sklearn import tree\n",
        "\n",
        "x_train = np.stack(df_train[\"overview_pca\"].values)\n",
        "x_test = np.stack(df_test[\"overview_pca\"].values)\n",
        "\n",
        "y_train = df_train[\"proc_genres\"].values\n",
        "y_test = df_test[\"proc_genres\"].values"
      ],
      "metadata": {
        "id": "9Sw6Z_KQr49g"
      },
      "id": "9Sw6Z_KQr49g",
      "execution_count": 180,
      "outputs": []
    },
    {
      "cell_type": "code",
      "execution_count": 181,
      "id": "e9ac379d",
      "metadata": {
        "id": "e9ac379d",
        "colab": {
          "base_uri": "https://localhost:8080/",
          "height": 490
        },
        "outputId": "dc2593e6-cc28-404a-b5c4-b05eb8ca8587"
      },
      "outputs": [
        {
          "output_type": "stream",
          "name": "stderr",
          "text": [
            "100%|██████████| 15/15 [02:23<00:00,  9.55s/it]\n"
          ]
        },
        {
          "output_type": "display_data",
          "data": {
            "text/plain": [
              "<Figure size 640x480 with 1 Axes>"
            ],
            "image/png": "[encoded data removed]"
          },
          "metadata": {}
        }
      ],
      "source": [
        "train_acc_mean, train_acc_std = [], []\n",
        "test_acc_mean, test_acc_std = [], []\n",
        "\n",
        "for d in tqdm(range(1, 16)):\n",
        "    train_perfs = []\n",
        "    test_perfs = []\n",
        "    for n in range(1, 20):\n",
        "        modelDT = tree.DecisionTreeClassifier(max_depth=d, splitter=\"random\", random_state=n)\n",
        "        modelDT.fit(x_train, y_train)\n",
        "        train_perfs.append(modelDT.score(x_train, y_train))\n",
        "        test_perfs.append(modelDT.score(x_test, y_test))\n",
        "    train_acc_mean.append(np.mean(train_perfs))\n",
        "    train_acc_std.append(np.std(train_perfs))\n",
        "    test_acc_mean.append(np.mean(test_perfs))\n",
        "    test_acc_std.append(np.std(test_perfs))\n",
        "\n",
        "plt.errorbar(range(1, 16), train_acc_mean, yerr=train_acc_std, label='Train Accuracy')\n",
        "plt.errorbar(range(1, 16), test_acc_mean, yerr=test_acc_std, label='Test Accuracy')\n",
        "plt.title('Decision Tree Accuracy for Each Tree Depth')\n",
        "plt.xlabel(\"Maximum Depth\")\n",
        "plt.ylabel(\"Mean Accuracy\")\n",
        "plt.legend()\n",
        "plt.grid(True)\n",
        "plt.show()"
      ]
    },
    {
      "cell_type": "markdown",
      "source": [
        "From this I concluded that Decision trees might not be the best method to use due to the low training data and tree depth before overfitting. So, I decided to do a random forest instead and using the one_hot_genres as well instead of the processed genres"
      ],
      "metadata": {
        "id": "7WsCuXuTuU07"
      },
      "id": "7WsCuXuTuU07"
    },
    {
      "cell_type": "code",
      "source": [
        "import time\n",
        "\n",
        "modelDT = tree.DecisionTreeClassifier(max_depth=2)\n",
        "\n",
        "start_train = time.time()\n",
        "modelDT.fit(x_train, y_train)\n",
        "train_time = time.time() - start_train\n",
        "\n",
        "start_infer = time.time()\n",
        "y_pred = modelDT.predict(x_test)\n",
        "inference_time = (time.time() - start_infer) / len(x_test)  # per sample\n",
        "\n",
        "train_score = modelDT.score(x_train, y_train)\n",
        "test_score = modelDT.score(x_test, y_test)\n",
        "\n",
        "print(\"Decision Tree Classifier:\")\n",
        "print(f\"Train Accuracy     : {train_score:.4f}\")\n",
        "print(f\"Test Accuracy      : {test_score:.4f}\")\n",
        "print(f\"Training Time      : {train_time:.4f} seconds\")\n",
        "print(f\"Mean Inference Time: {inference_time:.6f} seconds/sample\")"
      ],
      "metadata": {
        "colab": {
          "base_uri": "https://localhost:8080/"
        },
        "id": "-YoiI1P5CIoc",
        "outputId": "a2690be4-87a9-4d1f-c014-25c11790a9ff"
      },
      "id": "-YoiI1P5CIoc",
      "execution_count": 182,
      "outputs": [
        {
          "output_type": "stream",
          "name": "stdout",
          "text": [
            "Decision Tree Classifier:\n",
            "Train Accuracy     : 0.2430\n",
            "Test Accuracy      : 0.2367\n",
            "Training Time      : 1.9366 seconds\n",
            "Mean Inference Time: 0.000004 seconds/sample\n"
          ]
        }
      ]
    },
    {
      "cell_type": "code",
      "source": [
        "x_train = np.stack(df_train[\"overview_pca\"].values)\n",
        "x_test = np.stack(df_test[\"overview_pca\"].values)\n",
        "\n",
        "y_train = np.stack(df_train[\"one_hot_genres\"].values)\n",
        "y_test = np.stack(df_test[\"one_hot_genres\"].values)\n",
        "\n",
        "print(x_train.shape)\n",
        "print(y_train.shape)"
      ],
      "metadata": {
        "colab": {
          "base_uri": "https://localhost:8080/"
        },
        "id": "XbfQBiVMwIQU",
        "outputId": "95910aca-27a0-40e6-8fef-2706c7c4ca04"
      },
      "id": "XbfQBiVMwIQU",
      "execution_count": 183,
      "outputs": [
        {
          "output_type": "stream",
          "name": "stdout",
          "text": [
            "(3765, 1225)\n",
            "(3765, 21)\n"
          ]
        }
      ]
    },
    {
      "cell_type": "code",
      "source": [
        "from sklearn.ensemble import RandomForestClassifier as RFC\n",
        "from sklearn.multioutput import MultiOutputClassifier\n",
        "\n",
        "train_acc_mean, train_acc_std = np.zeros((10, 8)), np.zeros((10, 8))\n",
        "test_acc_mean, test_acc_std = np.zeros((10,8)), np.zeros((10,8))\n",
        "\n",
        "depths = [1,3,5,7,9,11]\n",
        "n_trees_list = [10, 30, 50, 70, 90]\n",
        "\n",
        "for tree_idx, n_t in tqdm(enumerate(n_trees_list), total=len(n_trees_list)):\n",
        "    for d_idx, d in enumerate(depths):\n",
        "        train_perfs = []\n",
        "        test_perfs = []\n",
        "        for seed in range(1, 6):\n",
        "            rf = RFC(n_estimators=n_t, max_depth=d, random_state=seed, n_jobs=-1)\n",
        "            modelRFC = MultiOutputClassifier(rf)\n",
        "            modelRFC = modelRFC.fit(x_train, y_train)\n",
        "            train_perfs.append(modelRFC.score(x_train, y_train))\n",
        "            test_perfs.append(modelRFC.score(x_test, y_test))\n",
        "\n",
        "        train_acc_mean[tree_idx][d_idx] = np.mean(train_perfs)\n",
        "        train_acc_std[tree_idx][d_idx] = np.std(train_perfs)\n",
        "        test_acc_mean[tree_idx][d_idx] = np.mean(test_perfs)\n",
        "        test_acc_std[tree_idx][d_idx] = np.std(test_perfs)"
      ],
      "metadata": {
        "colab": {
          "base_uri": "https://localhost:8080/"
        },
        "id": "iPvJahU_q9l8",
        "outputId": "4d83bbb3-e0f7-48cb-acaf-2d38b7a3fc51"
      },
      "id": "iPvJahU_q9l8",
      "execution_count": 174,
      "outputs": [
        {
          "output_type": "stream",
          "name": "stderr",
          "text": [
            "100%|██████████| 5/5 [2:58:50<00:00, 2146.15s/it]\n"
          ]
        }
      ]
    },
    {
      "cell_type": "markdown",
      "id": "5976997e",
      "metadata": {
        "id": "5976997e"
      },
      "source": [
        "Write a paragraph of ~150 words about how you went about selecting and tuning your model, and how you may want to make improvements to your model if you were to continue working on this. Plots are very good but not strictly necessary (i.e. try to add plots if you can)."
      ]
    },
    {
      "cell_type": "markdown",
      "id": "54186a60",
      "metadata": {
        "id": "54186a60"
      },
      "source": [
        "*First I thought of doing a more simple algorithm, checking to see which decision tree depth I should used based on the processed genre. After computing these values and plotting them (as seen above) I found out that the tree depth with the best test score accuracy was 2 and the test accuracy was 0.25, so I thought that a single decision tree would be too simple to capture all of the data's complexities*\n",
        "\n",
        "*In addition, I thought that using the proc_genres was too simplistic as it did not take into account a movies different genres so the decision tree could not also take that into account. I decided to use sk_learn's multioutput classifier to allow one-hot vectors to be used as training data.*\n",
        "\n",
        "*So, I decided to implement a random forest similar to last week's assignment to find out which would be the best tree depth and number of trees. I first tried with larger depths and greater number of trees but found that the computing time was excessive and took a very long time to run. So I decided to shorten the number of trees and tree depth to n.trees {10, 30, 50, 70, 90} and tree depth to {1, 3, 5, 7, 9, 11}. This still took a lot of time to run. I apologise, but this will likely not finish running until the deadline, so I included the requirements for the question for the decision tree with depth that acheived best test accuracy 2. I will finish running but after the deadline and will also included it to my GitHub*\n",
        "\n",
        "*After running the random forests for 3 hours, the test accuracy was 0.002, so it was better to use the decision trees anyways. What most likely was the case for this, was that the one_hot_encoding results are way too hard to predict and easy to overfit given only the PCA of the overviews, which was already limited to 15 words to beging with. So its analysis could group very different movies together*\n",
        "\n",
        "*If I were to continue working on this, I would use a decision tree with one hot encoding to see what would have the result been with that and seen if it would be possible to create a good predictor for the one-hot-encoding output.*"
      ]
    },
    {
      "cell_type": "markdown",
      "id": "14b50007",
      "metadata": {
        "id": "14b50007"
      },
      "source": [
        "# BONUS\n",
        "\n",
        "If you are happy with your score and wish to see how well it is doing with respect to other people (a sort of mini-competition), fill out the following form with the train_score (accuracy$\\in[0,1]$), test_score (accuracy$\\in[0,1]$), mean training time (in seconds), and mean inference time (in seconds) of your model, as well as what method you use. You can submit as many times before the deadline as you wish. Your final results will be correlated with your submission in order to validate your results (if we cannot validate them, they will be immediately disqualified).\n",
        "\n",
        "[FORM HERE](https://forms.gle/rXRtXScABH5oDLRWA)"
      ]
    }
  ],
  "metadata": {
    "kernelspec": {
      "display_name": "Python 3 (ipykernel)",
      "language": "python",
      "name": "python3"
    },
    "language_info": {
      "codemirror_mode": {
        "name": "ipython",
        "version": 3
      },
      "file_extension": ".py",
      "mimetype": "text/x-python",
      "name": "python",
      "nbconvert_exporter": "python",
      "pygments_lexer": "ipython3",
      "version": "3.10.7"
    },
    "colab": {
      "provenance": [],
      "include_colab_link": true
    }
  },
  "nbformat": 4,
  "nbformat_minor": 5
}